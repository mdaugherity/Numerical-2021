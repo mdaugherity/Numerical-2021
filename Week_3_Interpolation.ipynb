{
  "nbformat": 4,
  "nbformat_minor": 0,
  "metadata": {
    "colab": {
      "name": "Week 3 - Interpolation.ipynb",
      "provenance": [],
      "collapsed_sections": [],
      "authorship_tag": "ABX9TyNiKzD71N+7SZ478+KXrNnu",
      "include_colab_link": true
    },
    "kernelspec": {
      "name": "python3",
      "display_name": "Python 3"
    }
  },
  "cells": [
    {
      "cell_type": "markdown",
      "metadata": {
        "id": "view-in-github",
        "colab_type": "text"
      },
      "source": [
        "<a href=\"https://colab.research.google.com/github/mdaugherity/Numerical-2021/blob/main/Week_3_Interpolation.ipynb\" target=\"_parent\"><img src=\"https://colab.research.google.com/assets/colab-badge.svg\" alt=\"Open In Colab\"/></a>"
      ]
    },
    {
      "cell_type": "markdown",
      "metadata": {
        "id": "FZHJMpX3UMgi"
      },
      "source": [
        "# PHYS 451 - Interpolation (Week 3)\r\n",
        "Dr. Daugherity, Spring 2021"
      ]
    },
    {
      "cell_type": "code",
      "metadata": {
        "id": "fMLdPZPNUofq"
      },
      "source": [
        "import numpy as np\r\n",
        "import matplotlib.pyplot as plt"
      ],
      "execution_count": 13,
      "outputs": []
    },
    {
      "cell_type": "code",
      "metadata": {
        "colab": {
          "base_uri": "https://localhost:8080/"
        },
        "id": "ggC_aECUUKvI",
        "outputId": "2986e259-ecf5-4a4c-e905-6283188c7717"
      },
      "source": [
        "# Class example - linear interpolation by hand\r\n",
        "x1 = 0\r\n",
        "y1 = 10.5\r\n",
        "x2 = 10\r\n",
        "y2 = 4\r\n",
        "\r\n",
        "m = (y2-y1)/(x2-x1)\r\n",
        "x = 5\r\n",
        "y = m*(x-x1) + y1\r\n",
        "print(y)"
      ],
      "execution_count": 14,
      "outputs": [
        {
          "output_type": "stream",
          "text": [
            "7.25\n"
          ],
          "name": "stdout"
        }
      ]
    },
    {
      "cell_type": "code",
      "metadata": {
        "colab": {
          "base_uri": "https://localhost:8080/",
          "height": 265
        },
        "id": "uGsf5bAfUseY",
        "outputId": "c134f9ea-590d-445c-e06f-846ba891fb91"
      },
      "source": [
        "# Do lots of values of x to check\r\n",
        "x = np.linspace(x1,x2)\r\n",
        "y = m*(x-x1) + y1\r\n",
        "\r\n",
        "plt.plot(x,y)\r\n",
        "plt.plot([x1,x2], [y1,y2], 'ko')\r\n",
        "plt.show()"
      ],
      "execution_count": 15,
      "outputs": [
        {
          "output_type": "display_data",
          "data": {
            "image/png": "[encoded data removed]",
            "text/plain": [
              "<Figure size 432x288 with 1 Axes>"
            ]
          },
          "metadata": {
            "tags": [],
            "needs_background": "light"
          }
        }
      ]
    },
    {
      "cell_type": "code",
      "metadata": {
        "id": "00SiyGrNYmTd"
      },
      "source": [
        "from scipy import interpolate"
      ],
      "execution_count": null,
      "outputs": []
    },
    {
      "cell_type": "code",
      "metadata": {
        "colab": {
          "base_uri": "https://localhost:8080/"
        },
        "id": "ZO342g5UU7qg",
        "outputId": "50c15e9f-e8e3-41d2-9430-01c56fc2a800"
      },
      "source": [
        "f = interpolate.interp1d([x1,x2], [y1,y2])\r\n",
        "f(5)"
      ],
      "execution_count": 16,
      "outputs": [
        {
          "output_type": "execute_result",
          "data": {
            "text/plain": [
              "array(7.25)"
            ]
          },
          "metadata": {
            "tags": []
          },
          "execution_count": 16
        }
      ]
    },
    {
      "cell_type": "code",
      "metadata": {
        "colab": {
          "base_uri": "https://localhost:8080/"
        },
        "id": "h_xRnThQYI34",
        "outputId": "b50abf21-fc80-473b-e7c8-ec87c0b73a7e"
      },
      "source": [
        "f(x)"
      ],
      "execution_count": 17,
      "outputs": [
        {
          "output_type": "execute_result",
          "data": {
            "text/plain": [
              "array([10.5       , 10.36734694, 10.23469388, 10.10204082,  9.96938776,\n",
              "        9.83673469,  9.70408163,  9.57142857,  9.43877551,  9.30612245,\n",
              "        9.17346939,  9.04081633,  8.90816327,  8.7755102 ,  8.64285714,\n",
              "        8.51020408,  8.37755102,  8.24489796,  8.1122449 ,  7.97959184,\n",
              "        7.84693878,  7.71428571,  7.58163265,  7.44897959,  7.31632653,\n",
              "        7.18367347,  7.05102041,  6.91836735,  6.78571429,  6.65306122,\n",
              "        6.52040816,  6.3877551 ,  6.25510204,  6.12244898,  5.98979592,\n",
              "        5.85714286,  5.7244898 ,  5.59183673,  5.45918367,  5.32653061,\n",
              "        5.19387755,  5.06122449,  4.92857143,  4.79591837,  4.66326531,\n",
              "        4.53061224,  4.39795918,  4.26530612,  4.13265306,  4.        ])"
            ]
          },
          "metadata": {
            "tags": []
          },
          "execution_count": 17
        }
      ]
    }
  ]
}