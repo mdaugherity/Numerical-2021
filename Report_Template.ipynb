{
  "nbformat": 4,
  "nbformat_minor": 0,
  "metadata": {
    "colab": {
      "name": "Report Template.ipynb",
      "provenance": [],
      "collapsed_sections": [],
      "toc_visible": true,
      "authorship_tag": "ABX9TyNA/vWH0YxZwlNG50dbX0zL",
      "include_colab_link": true
    },
    "kernelspec": {
      "name": "python3",
      "display_name": "Python 3"
    }
  },
  "cells": [
    {
      "cell_type": "markdown",
      "metadata": {
        "id": "view-in-github",
        "colab_type": "text"
      },
      "source": [
        "<a href=\"https://colab.research.google.com/github/mdaugherity/Numerical-2021/blob/main/Report_Template.ipynb\" target=\"_parent\"><img src=\"https://colab.research.google.com/assets/colab-badge.svg\" alt=\"Open In Colab\"/></a>"
      ]
    },
    {
      "cell_type": "markdown",
      "metadata": {
        "id": "ed5klSHDSQnn"
      },
      "source": [
        "# Homework 1\r\n",
        "Dr. Daugherity, PHYS 451, Spring 2021\r\n"
      ]
    },
    {
      "cell_type": "markdown",
      "metadata": {
        "id": "EegCTvwPSQkv"
      },
      "source": [
        "# Problem Description\r\n",
        "\r\n",
        "Write a few sentences explaining the type of problem you are solving.  Use equations and figures when they are helpful.\r\n",
        "\r\n"
      ]
    },
    {
      "cell_type": "markdown",
      "metadata": {
        "id": "FLXsnQvGT-NG"
      },
      "source": [
        "# Methods\r\n",
        "\r\n",
        "Give a brief description of the method, algorithm, equations, etc. you will use to solve the problem.  List what python libraries or commands you will use.\r\n",
        "\r\n"
      ]
    },
    {
      "cell_type": "code",
      "metadata": {
        "id": "rPytGKleUbpC"
      },
      "source": [
        "import numpy as np\r\n",
        "import matplotlib.pyplot as plt"
      ],
      "execution_count": null,
      "outputs": []
    },
    {
      "cell_type": "markdown",
      "metadata": {
        "id": "7qZH9gFHUaI7"
      },
      "source": [
        "# Validation\r\n",
        "\r\n",
        "You must show at least one example test case that you already know the right answer for!  Demonstrate that your code works and gives the expected result. "
      ]
    },
    {
      "cell_type": "code",
      "metadata": {
        "id": "zdjV3UWpVkqp"
      },
      "source": [
        "# test case 1"
      ],
      "execution_count": null,
      "outputs": []
    },
    {
      "cell_type": "markdown",
      "metadata": {
        "id": "UBtmCfLqV37l"
      },
      "source": [
        "Explain how we know your code works here."
      ]
    },
    {
      "cell_type": "markdown",
      "metadata": {
        "id": "Uv0Z84eLVonY"
      },
      "source": [
        "# Problem 1 - (put name or description here)\r\n"
      ]
    },
    {
      "cell_type": "code",
      "metadata": {
        "id": "uN5R-AnIWH53"
      },
      "source": [
        "# do problem 1 here"
      ],
      "execution_count": null,
      "outputs": []
    },
    {
      "cell_type": "markdown",
      "metadata": {
        "id": "0Fdo7IHHWNTz"
      },
      "source": [
        "# Problem 2 - (put name or description here)"
      ]
    },
    {
      "cell_type": "code",
      "metadata": {
        "id": "s3gfy0qoWQ7y"
      },
      "source": [
        "# do problem 2 here"
      ],
      "execution_count": null,
      "outputs": []
    },
    {
      "cell_type": "markdown",
      "metadata": {
        "id": "vU_bRUPMWQkv"
      },
      "source": [
        "# Discussion\r\n",
        "Discuss your results, answer any questions that were given.  Explain if your answer seems reasonable and is what you expected.  Discuss if you learned lessons along the way."
      ]
    }
  ]
}