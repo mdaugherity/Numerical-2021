{
  "nbformat": 4,
  "nbformat_minor": 0,
  "metadata": {
    "colab": {
      "name": "LaTeX Crash Course.ipynb",
      "provenance": [],
      "authorship_tag": "ABX9TyMkdX7995cWFuaivyvEUfrY",
      "include_colab_link": true
    },
    "kernelspec": {
      "name": "python3",
      "display_name": "Python 3"
    }
  },
  "cells": [
    {
      "cell_type": "markdown",
      "metadata": {
        "id": "view-in-github",
        "colab_type": "text"
      },
      "source": [
        "<a href=\"https://colab.research.google.com/github/mdaugherity/Numerical-2021/blob/main/LaTeX_Crash_Course.ipynb\" target=\"_parent\"><img src=\"https://colab.research.google.com/assets/colab-badge.svg\" alt=\"Open In Colab\"/></a>"
      ]
    },
    {
      "cell_type": "markdown",
      "metadata": {
        "id": "p0-e_-n350bQ"
      },
      "source": [
        "You can write equations in the text cells using LaTeX!"
      ]
    },
    {
      "cell_type": "markdown",
      "metadata": {
        "id": "JqkUcMra57VP"
      },
      "source": [
        "To enter latex mode use dollar signs\r\n",
        "$ x=1$\r\n"
      ]
    },
    {
      "cell_type": "markdown",
      "metadata": {
        "id": "UCjPu3TZ6ERt"
      },
      "source": [
        "Exponents, superscripts, subscripts are easy\r\n",
        "$x^2$.  For longer exponents $e^{ikx}$.\r\n",
        "Subscripts use $x_1$ and $x_{total}$."
      ]
    },
    {
      "cell_type": "markdown",
      "metadata": {
        "id": "6S2mjIbH6voE"
      },
      "source": [
        "Symbols use backslash: $\\pi$.  \r\n",
        "These are case-sensitive $\\delta$ vs $\\Delta$.  $\\nabla$  "
      ]
    },
    {
      "cell_type": "markdown",
      "metadata": {
        "id": "MCatuhiA7Zqb"
      },
      "source": [
        "Functions and fractions\r\n",
        "$ y = \\sin(x)$ \r\n",
        "\r\n",
        "Fractions are a little bit harder.  Use the frac command\r\n",
        "$\\frac{1}{2}$ and $\\frac{x^2}{\\tanh(x!)}$  "
      ]
    },
    {
      "cell_type": "code",
      "metadata": {
        "id": "eyECT2ty6mXs"
      },
      "source": [
        ""
      ],
      "execution_count": null,
      "outputs": []
    }
  ]
}