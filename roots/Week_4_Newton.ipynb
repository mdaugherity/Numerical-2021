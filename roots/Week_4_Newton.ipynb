{
  "nbformat": 4,
  "nbformat_minor": 0,
  "metadata": {
    "colab": {
      "name": "Week 4 - Newton.ipynb",
      "provenance": [],
      "collapsed_sections": [],
      "authorship_tag": "ABX9TyOTaMgCbUczExiEn4iU8+ZU",
      "include_colab_link": true
    },
    "kernelspec": {
      "name": "python3",
      "display_name": "Python 3"
    }
  },
  "cells": [
    {
      "cell_type": "markdown",
      "metadata": {
        "id": "view-in-github",
        "colab_type": "text"
      },
      "source": [
        "<a href=\"https://colab.research.google.com/github/mdaugherity/Numerical-2021/blob/main/Week_4_Newton.ipynb\" target=\"_parent\"><img src=\"https://colab.research.google.com/assets/colab-badge.svg\" alt=\"Open In Colab\"/></a>"
      ]
    },
    {
      "cell_type": "markdown",
      "metadata": {
        "id": "_HfP1iHKBTdl"
      },
      "source": [
        "# PHYS 451 - Root Finding\r\n",
        "Example of root finding using the Newton-Raphson and Secant methods"
      ]
    },
    {
      "cell_type": "code",
      "metadata": {
        "id": "CyWsBleMBwsU"
      },
      "source": [
        "import numpy as np\r\n",
        "import matplotlib.pyplot as plt"
      ],
      "execution_count": null,
      "outputs": []
    },
    {
      "cell_type": "code",
      "metadata": {
        "id": "_jzoT0X0BOgh"
      },
      "source": [
        "def f(x):\r\n",
        "  return x**2 + 4*x + 4"
      ],
      "execution_count": null,
      "outputs": []
    },
    {
      "cell_type": "code",
      "metadata": {
        "id": "wfgm8bS6CV98"
      },
      "source": [
        "def fprime(x):\r\n",
        "  return 2*x+4"
      ],
      "execution_count": null,
      "outputs": []
    },
    {
      "cell_type": "code",
      "metadata": {
        "colab": {
          "base_uri": "https://localhost:8080/",
          "height": 300
        },
        "id": "O0NK9bziBvdT",
        "outputId": "cfe0030f-6f32-4770-e05d-2445bb447ee8"
      },
      "source": [
        "x = np.linspace(-4,0)\r\n",
        "plt.plot(x, f(x))\r\n",
        "plt.grid()"
      ],
      "execution_count": null,
      "outputs": [
        {
          "output_type": "stream",
          "text": [
            "Initial Guess =  -3\n",
            "next guess is xnew = -2.5\n"
          ],
          "name": "stdout"
        },
        {
          "output_type": "display_data",
          "data": {
            "image/png": "[encoded data removed]",
            "text/plain": [
              "<Figure size 432x288 with 1 Axes>"
            ]
          },
          "metadata": {
            "tags": [],
            "needs_background": "light"
          }
        }
      ]
    },
    {
      "cell_type": "code",
      "metadata": {
        "colab": {
          "base_uri": "https://localhost:8080/"
        },
        "id": "AkM7TD_pDFX8",
        "outputId": "0ce89419-2738-4e1a-9ab9-86a7acf9a2de"
      },
      "source": [
        "# ONE STEP\r\n",
        "xold = -3\r\n",
        "xnew = xold - f(xold)/fprime(xold)\r\n",
        "\r\n",
        "print('Initial Guess = ',xold)\r\n",
        "print('next guess is xnew =', xnew)"
      ],
      "execution_count": null,
      "outputs": [
        {
          "output_type": "stream",
          "text": [
            "Initial Guess =  -3\n",
            "next guess is xnew = -2.5\n"
          ],
          "name": "stdout"
        }
      ]
    },
    {
      "cell_type": "code",
      "metadata": {
        "colab": {
          "base_uri": "https://localhost:8080/"
        },
        "id": "uCvhyBmgDKRr",
        "outputId": "5d3f5912-c9e4-4cf0-e89a-f9e5b4d48006"
      },
      "source": [
        "# MANY STEPS\r\n",
        "STEPS = 10\r\n",
        "xold = -3\r\n",
        "print('Initial Guess = ',xold)\r\n",
        "\r\n",
        "for i in range(STEPS):\r\n",
        "  xnew = xold - f(xold)/fprime(xold)\r\n",
        "  print('next guess is xnew =', xnew)\r\n",
        "  xold = xnew"
      ],
      "execution_count": null,
      "outputs": [
        {
          "output_type": "stream",
          "text": [
            "Initial Guess =  -3\n",
            "next guess is xnew = -2.5\n",
            "next guess is xnew = -2.25\n",
            "next guess is xnew = -2.125\n",
            "next guess is xnew = -2.0625\n",
            "next guess is xnew = -2.03125\n",
            "next guess is xnew = -2.015625\n",
            "next guess is xnew = -2.0078125\n",
            "next guess is xnew = -2.00390625\n",
            "next guess is xnew = -2.001953125\n",
            "next guess is xnew = -2.0009765625\n"
          ],
          "name": "stdout"
        }
      ]
    },
    {
      "cell_type": "markdown",
      "metadata": {
        "id": "RSuPvJBlGoK-"
      },
      "source": [
        "# SECANT METHOD"
      ]
    },
    {
      "cell_type": "code",
      "metadata": {
        "colab": {
          "base_uri": "https://localhost:8080/"
        },
        "id": "VOCDDh0jGqLP",
        "outputId": "58ab080e-8ac2-4500-ef71-92066853a977"
      },
      "source": [
        "x0 = -3\r\n",
        "x1 = x0 + 0.01\r\n",
        "\r\n",
        "STEPS = 10\r\n",
        "print('Initial Guesses = ',x0,x1)\r\n",
        "\r\n",
        "for i in range(STEPS):\r\n",
        "  dem = f(x1)-f(x0)\r\n",
        "  #if dem!=0:\r\n",
        "  x2 = x1 - f(x1)*(x1-x0)/dem\r\n",
        "  print('next guess is x2 =', x2)\r\n",
        "  x0 = x1\r\n",
        "  x1 = x2\r\n",
        "  \r\n"
      ],
      "execution_count": null,
      "outputs": [
        {
          "output_type": "stream",
          "text": [
            "Initial Guesses =  -3 -2.99\n",
            "next guess is x2 = -2.4974874371859355\n",
            "next guess is x2 = -2.331103678929768\n",
            "next guess is x2 = -2.1987951807228936\n",
            "next guess is x2 = -2.1242158092848182\n",
            "next guess is x2 = -2.0764478764478786\n",
            "next guess is x2 = -2.047323135755261\n",
            "next guess is x2 = -2.0292294065544687\n",
            "next guess is x2 = -2.0180689906917375\n",
            "next guess is x2 = -2.011166253101727\n",
            "next guess is x2 = -2.0069013593586864\n"
          ],
          "name": "stdout"
        }
      ]
    }
  ]
}