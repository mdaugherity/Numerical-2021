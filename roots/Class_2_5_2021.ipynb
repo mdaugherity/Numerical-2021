{
  "nbformat": 4,
  "nbformat_minor": 0,
  "metadata": {
    "colab": {
      "name": "Class 2-5-2021.ipynb",
      "provenance": [],
      "collapsed_sections": [],
      "authorship_tag": "ABX9TyO8RTRVguVbPcoenSF2NJ25",
      "include_colab_link": true
    },
    "kernelspec": {
      "name": "python3",
      "display_name": "Python 3"
    }
  },
  "cells": [
    {
      "cell_type": "markdown",
      "metadata": {
        "id": "view-in-github",
        "colab_type": "text"
      },
      "source": [
        "<a href=\"https://colab.research.google.com/github/mdaugherity/Numerical-2021/blob/main/Class_2_5_2021.ipynb\" target=\"_parent\"><img src=\"https://colab.research.google.com/assets/colab-badge.svg\" alt=\"Open In Colab\"/></a>"
      ]
    },
    {
      "cell_type": "markdown",
      "metadata": {
        "id": "WncJGgodMnA2"
      },
      "source": [
        "# Experiments in root finding"
      ]
    },
    {
      "cell_type": "code",
      "metadata": {
        "id": "e_QWg_FXiXTW"
      },
      "source": [
        "import numpy as np\r\n",
        "import matplotlib.pyplot as plt"
      ],
      "execution_count": 1,
      "outputs": []
    },
    {
      "cell_type": "code",
      "metadata": {
        "id": "h_m-wj07hHkc"
      },
      "source": [
        "def humps(x):\r\n",
        "  return 1 / ((x-.3)**2 + .01) + 1 / ((x-.9)**2 + .04) - 6 -50"
      ],
      "execution_count": 2,
      "outputs": []
    },
    {
      "cell_type": "markdown",
      "metadata": {
        "id": "rujW6AV0MsXU"
      },
      "source": [
        "# The Game\r\n",
        "There is at least one root between x=0 and 1.  Find the root or roots without ploting the function."
      ]
    },
    {
      "cell_type": "code",
      "metadata": {
        "colab": {
          "base_uri": "https://localhost:8080/"
        },
        "id": "h0WFk6i6hXjc",
        "outputId": "2f46f81a-2750-4ee3-9836-64e7920d19f4"
      },
      "source": [
        "humps(1)"
      ],
      "execution_count": 3,
      "outputs": [
        {
          "output_type": "execute_result",
          "data": {
            "text/plain": [
              "-34.0"
            ]
          },
          "metadata": {
            "tags": []
          },
          "execution_count": 3
        }
      ]
    },
    {
      "cell_type": "code",
      "metadata": {
        "colab": {
          "base_uri": "https://localhost:8080/"
        },
        "id": "Zr1-9nGnhov0",
        "outputId": "ded89d84-9e81-43cf-aa56-096a96e0294d"
      },
      "source": [
        "humps(0.5)"
      ],
      "execution_count": 4,
      "outputs": [
        {
          "output_type": "execute_result",
          "data": {
            "text/plain": [
              "-31.000000000000004"
            ]
          },
          "metadata": {
            "tags": []
          },
          "execution_count": 4
        }
      ]
    },
    {
      "cell_type": "code",
      "metadata": {
        "colab": {
          "base_uri": "https://localhost:8080/"
        },
        "id": "8E2W6dFGhr0K",
        "outputId": "025752fa-b339-4269-bd9c-4fc842b44441"
      },
      "source": [
        "humps(0.001)"
      ],
      "execution_count": 5,
      "outputs": [
        {
          "output_type": "execute_result",
          "data": {
            "text/plain": [
              "-44.76077320208154"
            ]
          },
          "metadata": {
            "tags": []
          },
          "execution_count": 5
        }
      ]
    },
    {
      "cell_type": "code",
      "metadata": {
        "colab": {
          "base_uri": "https://localhost:8080/"
        },
        "id": "OYXusvN7htoq",
        "outputId": "c5702344-d492-4361-8d8c-d4da1d917cf8"
      },
      "source": [
        "humps(0.1)"
      ],
      "execution_count": 6,
      "outputs": [
        {
          "output_type": "execute_result",
          "data": {
            "text/plain": [
              "-34.529411764705884"
            ]
          },
          "metadata": {
            "tags": []
          },
          "execution_count": 6
        }
      ]
    },
    {
      "cell_type": "code",
      "metadata": {
        "colab": {
          "base_uri": "https://localhost:8080/"
        },
        "id": "Pm-MdDLfhwgS",
        "outputId": "a38a039e-8ef2-4cdd-9092-d70e2cd92c3f"
      },
      "source": [
        "humps(0.6)"
      ],
      "execution_count": 7,
      "outputs": [
        {
          "output_type": "execute_result",
          "data": {
            "text/plain": [
              "-38.30769230769231"
            ]
          },
          "metadata": {
            "tags": []
          },
          "execution_count": 7
        }
      ]
    },
    {
      "cell_type": "code",
      "metadata": {
        "colab": {
          "base_uri": "https://localhost:8080/"
        },
        "id": "nAgMrK4DhyjS",
        "outputId": "b13067b1-7f47-41d6-a825-0d917f7e2017"
      },
      "source": [
        "humps(0.25)"
      ],
      "execution_count": 8,
      "outputs": [
        {
          "output_type": "execute_result",
          "data": {
            "text/plain": [
              "26.16216216216216"
            ]
          },
          "metadata": {
            "tags": []
          },
          "execution_count": 8
        }
      ]
    },
    {
      "cell_type": "code",
      "metadata": {
        "colab": {
          "base_uri": "https://localhost:8080/"
        },
        "id": "RTjqQf1Nh1Ni",
        "outputId": "5c2f84f8-f244-41db-a431-0dfb8878ed0d"
      },
      "source": [
        "humps(0.35)"
      ],
      "execution_count": 9,
      "outputs": [
        {
          "output_type": "execute_result",
          "data": {
            "text/plain": [
              "26.919708029197082"
            ]
          },
          "metadata": {
            "tags": []
          },
          "execution_count": 9
        }
      ]
    },
    {
      "cell_type": "code",
      "metadata": {
        "colab": {
          "base_uri": "https://localhost:8080/"
        },
        "id": "atUhAKwch67K",
        "outputId": "29da9acd-a15b-449e-bc71-5cda55ab6df3"
      },
      "source": [
        "humps(0.39)"
      ],
      "execution_count": 10,
      "outputs": [
        {
          "output_type": "execute_result",
          "data": {
            "text/plain": [
              "2.580841376999551"
            ]
          },
          "metadata": {
            "tags": []
          },
          "execution_count": 10
        }
      ]
    },
    {
      "cell_type": "code",
      "metadata": {
        "colab": {
          "base_uri": "https://localhost:8080/"
        },
        "id": "mH_ZJSWkh9L6",
        "outputId": "de24bfb6-8505-44c6-be3d-518c569ffc94"
      },
      "source": [
        "humps(0.4)"
      ],
      "execution_count": 11,
      "outputs": [
        {
          "output_type": "execute_result",
          "data": {
            "text/plain": [
              "-2.5517241379310533"
            ]
          },
          "metadata": {
            "tags": []
          },
          "execution_count": 11
        }
      ]
    },
    {
      "cell_type": "code",
      "metadata": {
        "colab": {
          "base_uri": "https://localhost:8080/"
        },
        "id": "0T7PiA5PiA4x",
        "outputId": "3dc81627-e38b-46ba-ad29-7601236ed727"
      },
      "source": [
        "humps(0.395)"
      ],
      "execution_count": 12,
      "outputs": [
        {
          "output_type": "execute_result",
          "data": {
            "text/plain": [
              "-0.048038869732096146"
            ]
          },
          "metadata": {
            "tags": []
          },
          "execution_count": 12
        }
      ]
    },
    {
      "cell_type": "code",
      "metadata": {
        "colab": {
          "base_uri": "https://localhost:8080/"
        },
        "id": "XE7OjlpDiE2y",
        "outputId": "a0e4db72-6734-4ba0-d220-d7e93692cc17"
      },
      "source": [
        "humps(0.393)"
      ],
      "execution_count": 13,
      "outputs": [
        {
          "output_type": "execute_result",
          "data": {
            "text/plain": [
              "0.9886260926399544"
            ]
          },
          "metadata": {
            "tags": []
          },
          "execution_count": 13
        }
      ]
    },
    {
      "cell_type": "code",
      "metadata": {
        "colab": {
          "base_uri": "https://localhost:8080/"
        },
        "id": "DZvYaYXDiH4q",
        "outputId": "ee83fa95-da31-44b1-bde7-6673ec2a0c04"
      },
      "source": [
        "humps(0.396)"
      ],
      "execution_count": 14,
      "outputs": [
        {
          "output_type": "execute_result",
          "data": {
            "text/plain": [
              "-0.558857859344478"
            ]
          },
          "metadata": {
            "tags": []
          },
          "execution_count": 14
        }
      ]
    },
    {
      "cell_type": "code",
      "metadata": {
        "colab": {
          "base_uri": "https://localhost:8080/",
          "height": 265
        },
        "id": "FIF9HOEdiP7W",
        "outputId": "9761456d-2e28-4237-af88-b443c602017a"
      },
      "source": [
        "x = np.linspace(0.39,0.4)\r\n",
        "plt.plot(x,humps(x))\r\n",
        "plt.grid()"
      ],
      "execution_count": 21,
      "outputs": [
        {
          "output_type": "display_data",
          "data": {
            "image/png": "[encoded data removed]",
            "text/plain": [
              "<Figure size 432x288 with 1 Axes>"
            ]
          },
          "metadata": {
            "tags": [],
            "needs_background": "light"
          }
        }
      ]
    },
    {
      "cell_type": "code",
      "metadata": {
        "colab": {
          "base_uri": "https://localhost:8080/",
          "height": 267
        },
        "id": "d2pt0KNojyBa",
        "outputId": "29e70a85-0003-4e09-95b6-54514ac1613a"
      },
      "source": [
        "x = np.linspace(-10,10)\r\n",
        "plt.plot(x,humps(x))\r\n",
        "plt.grid()"
      ],
      "execution_count": 16,
      "outputs": [
        {
          "output_type": "display_data",
          "data": {
            "image/png": "[encoded data removed]",
            "text/plain": [
              "<Figure size 432x288 with 1 Axes>"
            ]
          },
          "metadata": {
            "tags": [],
            "needs_background": "light"
          }
        }
      ]
    },
    {
      "cell_type": "markdown",
      "metadata": {
        "id": "MMp_7Cr0NIWj"
      },
      "source": [
        "# Built-in root finder"
      ]
    },
    {
      "cell_type": "code",
      "metadata": {
        "id": "BUEBGOLvi6Pa"
      },
      "source": [
        "from scipy.optimize import root_scalar"
      ],
      "execution_count": 17,
      "outputs": []
    },
    {
      "cell_type": "code",
      "metadata": {
        "colab": {
          "base_uri": "https://localhost:8080/"
        },
        "id": "Viz4k2Qqi-ky",
        "outputId": "9bd2f0ec-6d96-4460-8d9b-9d422d6593d1"
      },
      "source": [
        "root_scalar(humps, bracket=[0.3,0.5])"
      ],
      "execution_count": 18,
      "outputs": [
        {
          "output_type": "execute_result",
          "data": {
            "text/plain": [
              "      converged: True\n",
              "           flag: 'converged'\n",
              " function_calls: 10\n",
              "     iterations: 9\n",
              "           root: 0.39490645984479805"
            ]
          },
          "metadata": {
            "tags": []
          },
          "execution_count": 18
        }
      ]
    },
    {
      "cell_type": "code",
      "metadata": {
        "colab": {
          "base_uri": "https://localhost:8080/"
        },
        "id": "1mdrmGm9keXm",
        "outputId": "08a2462d-e2d9-4bb0-8f59-d59b63c86758"
      },
      "source": [
        "root_scalar(humps, bracket=[0.3,100])"
      ],
      "execution_count": 19,
      "outputs": [
        {
          "output_type": "execute_result",
          "data": {
            "text/plain": [
              "      converged: True\n",
              "           flag: 'converged'\n",
              " function_calls: 17\n",
              "     iterations: 16\n",
              "           root: 0.394906459844791"
            ]
          },
          "metadata": {
            "tags": []
          },
          "execution_count": 19
        }
      ]
    },
    {
      "cell_type": "code",
      "metadata": {
        "colab": {
          "base_uri": "https://localhost:8080/"
        },
        "id": "OqDnk8rfkUn3",
        "outputId": "8ea72ebc-2b70-4454-831f-283e3c4cf415"
      },
      "source": [
        "root_scalar(humps, bracket=[0.1,0.3])"
      ],
      "execution_count": 20,
      "outputs": [
        {
          "output_type": "execute_result",
          "data": {
            "text/plain": [
              "      converged: True\n",
              "           flag: 'converged'\n",
              " function_calls: 9\n",
              "     iterations: 8\n",
              "           root: 0.20784070153732864"
            ]
          },
          "metadata": {
            "tags": []
          },
          "execution_count": 20
        }
      ]
    },
    {
      "cell_type": "markdown",
      "metadata": {
        "id": "2R0GXicKNNiW"
      },
      "source": [
        "Notice how the result and number of iterations depends on the bracket"
      ]
    }
  ]
}