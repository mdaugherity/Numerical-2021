{
  "nbformat": 4,
  "nbformat_minor": 0,
  "metadata": {
    "colab": {
      "name": "Week 4 - root solve.ipynb",
      "provenance": [],
      "collapsed_sections": [],
      "authorship_tag": "ABX9TyMaL/eb8gF3gXC4NxtMa/fO",
      "include_colab_link": true
    },
    "kernelspec": {
      "name": "python3",
      "display_name": "Python 3"
    }
  },
  "cells": [
    {
      "cell_type": "markdown",
      "metadata": {
        "id": "view-in-github",
        "colab_type": "text"
      },
      "source": [
        "<a href=\"https://colab.research.google.com/github/mdaugherity/Numerical-2021/blob/main/Week_4_root_solve.ipynb\" target=\"_parent\"><img src=\"https://colab.research.google.com/assets/colab-badge.svg\" alt=\"Open In Colab\"/></a>"
      ]
    },
    {
      "cell_type": "markdown",
      "metadata": {
        "id": "_HfP1iHKBTdl"
      },
      "source": [
        "# PHYS 451 - Root Finding\r\n",
        "How to use root_solve"
      ]
    },
    {
      "cell_type": "code",
      "metadata": {
        "id": "CyWsBleMBwsU"
      },
      "source": [
        "import numpy as np\r\n",
        "import matplotlib.pyplot as plt\r\n",
        "from scipy.optimize import root_scalar"
      ],
      "execution_count": null,
      "outputs": []
    },
    {
      "cell_type": "code",
      "metadata": {
        "id": "_jzoT0X0BOgh"
      },
      "source": [
        "def f(x):\r\n",
        "  return x**2 + 4*x + 3"
      ],
      "execution_count": null,
      "outputs": []
    },
    {
      "cell_type": "code",
      "metadata": {
        "id": "46umr20vU_Vo"
      },
      "source": [
        "def fprime(x):\r\n",
        "  return 2*x+4"
      ],
      "execution_count": null,
      "outputs": []
    },
    {
      "cell_type": "code",
      "metadata": {
        "colab": {
          "base_uri": "https://localhost:8080/",
          "height": 265
        },
        "id": "IdZN5BtGUwVz",
        "outputId": "ba24b234-4b2c-45d4-e120-9368727eb6eb"
      },
      "source": [
        "x = np.linspace(-4,1)\r\n",
        "plt.plot(x,f(x))\r\n",
        "plt.grid()"
      ],
      "execution_count": null,
      "outputs": [
        {
          "output_type": "display_data",
          "data": {
            "image/png": "[encoded data removed]",
            "text/plain": [
              "<Figure size 432x288 with 1 Axes>"
            ]
          },
          "metadata": {
            "tags": [],
            "needs_background": "light"
          }
        }
      ]
    },
    {
      "cell_type": "code",
      "metadata": {
        "colab": {
          "base_uri": "https://localhost:8080/"
        },
        "id": "ZdKAGJGWVWcQ",
        "outputId": "9123a835-d41b-4b5c-b8cf-9a8e689797ad"
      },
      "source": [
        "root_scalar(f, bracket=[-4, -2.5] )    # use brackets"
      ],
      "execution_count": null,
      "outputs": [
        {
          "output_type": "execute_result",
          "data": {
            "text/plain": [
              "      converged: True\n",
              "           flag: 'converged'\n",
              " function_calls: 9\n",
              "     iterations: 8\n",
              "           root: -3.00000000000018"
            ]
          },
          "metadata": {
            "tags": []
          },
          "execution_count": 12
        }
      ]
    },
    {
      "cell_type": "code",
      "metadata": {
        "colab": {
          "base_uri": "https://localhost:8080/"
        },
        "id": "mei41bt9WL34",
        "outputId": "c7581890-c77f-46f4-e1c9-bf01092d8ea7"
      },
      "source": [
        "sol = root_scalar(f, bracket=[-2, 0] )    # use brackets\r\n",
        "x = sol.root  # the root\r\n",
        "print(x)"
      ],
      "execution_count": null,
      "outputs": [
        {
          "output_type": "stream",
          "text": [
            "-1.0\n"
          ],
          "name": "stdout"
        }
      ]
    },
    {
      "cell_type": "code",
      "metadata": {
        "colab": {
          "base_uri": "https://localhost:8080/"
        },
        "id": "NlDaHQ07W3qw",
        "outputId": "4e5f061c-b3c2-4261-a0fe-f7e476200e65"
      },
      "source": [
        "root_scalar(f, fprime=fprime, x0=-4 )    # use derivatives"
      ],
      "execution_count": null,
      "outputs": [
        {
          "output_type": "execute_result",
          "data": {
            "text/plain": [
              "      converged: True\n",
              "           flag: 'converged'\n",
              " function_calls: 12\n",
              "     iterations: 6\n",
              "           root: -3.0"
            ]
          },
          "metadata": {
            "tags": []
          },
          "execution_count": 16
        }
      ]
    },
    {
      "cell_type": "code",
      "metadata": {
        "colab": {
          "base_uri": "https://localhost:8080/"
        },
        "id": "XKZIjtV4XLgv",
        "outputId": "08bf8177-1b3e-4005-8f1b-18429a6eaacc"
      },
      "source": [
        "root_scalar(f, fprime=fprime, x0=-2 )    # use derivatives"
      ],
      "execution_count": null,
      "outputs": [
        {
          "output_type": "stream",
          "text": [
            "/usr/local/lib/python3.6/dist-packages/scipy/optimize/zeros.py:297: RuntimeWarning: Derivative was zero.\n",
            "  warnings.warn(msg, RuntimeWarning)\n"
          ],
          "name": "stderr"
        },
        {
          "output_type": "execute_result",
          "data": {
            "text/plain": [
              "      converged: False\n",
              "           flag: 'convergence error'\n",
              " function_calls: 2\n",
              "     iterations: 1\n",
              "           root: -2.0"
            ]
          },
          "metadata": {
            "tags": []
          },
          "execution_count": 17
        }
      ]
    },
    {
      "cell_type": "code",
      "metadata": {
        "colab": {
          "base_uri": "https://localhost:8080/"
        },
        "id": "CRsWh4ldXhmu",
        "outputId": "1e8880db-c18a-422a-cf00-b9d0d06ae19f"
      },
      "source": [
        "sol = root_scalar(f, fprime=fprime, x0=-2 )    # use derivatives\r\n",
        "x = sol.root\r\n",
        "print('root = ',x)\r\n",
        "if sol.converged==False:\r\n",
        "  print('*****************WARNING!!!!!!***********')"
      ],
      "execution_count": null,
      "outputs": [
        {
          "output_type": "stream",
          "text": [
            "root =  -2.0\n",
            "*****************WARNING!!!!!!***********\n"
          ],
          "name": "stdout"
        },
        {
          "output_type": "stream",
          "text": [
            "/usr/local/lib/python3.6/dist-packages/scipy/optimize/zeros.py:297: RuntimeWarning: Derivative was zero.\n",
            "  warnings.warn(msg, RuntimeWarning)\n"
          ],
          "name": "stderr"
        }
      ]
    },
    {
      "cell_type": "code",
      "metadata": {
        "colab": {
          "base_uri": "https://localhost:8080/"
        },
        "id": "U187FbVYX1w_",
        "outputId": "48e27f19-49f1-4250-bd1f-c938f1cb8927"
      },
      "source": [
        "root_scalar(f,x0=-4, x1=-2.5 )    # use two guesses"
      ],
      "execution_count": null,
      "outputs": [
        {
          "output_type": "execute_result",
          "data": {
            "text/plain": [
              "      converged: True\n",
              "           flag: 'converged'\n",
              " function_calls: 8\n",
              "     iterations: 7\n",
              "           root: -3.0"
            ]
          },
          "metadata": {
            "tags": []
          },
          "execution_count": 22
        }
      ]
    },
    {
      "cell_type": "code",
      "metadata": {
        "colab": {
          "base_uri": "https://localhost:8080/"
        },
        "id": "BKW6jXZ7YIu4",
        "outputId": "4b9d3a87-9dfd-4cd3-cfea-26f2940be8e0"
      },
      "source": [
        "root_scalar(f,x0=-4, x1=0 )    # use two guesses"
      ],
      "execution_count": null,
      "outputs": [
        {
          "output_type": "stream",
          "text": [
            "/usr/local/lib/python3.6/dist-packages/scipy/optimize/zeros.py:343: RuntimeWarning: Tolerance of 4.0 reached.\n",
            "  warnings.warn(msg, RuntimeWarning)\n"
          ],
          "name": "stderr"
        },
        {
          "output_type": "execute_result",
          "data": {
            "text/plain": [
              "      converged: True\n",
              "           flag: 'converged'\n",
              " function_calls: 2\n",
              "     iterations: 1\n",
              "           root: -2.0"
            ]
          },
          "metadata": {
            "tags": []
          },
          "execution_count": 24
        }
      ]
    },
    {
      "cell_type": "code",
      "metadata": {
        "colab": {
          "base_uri": "https://localhost:8080/"
        },
        "id": "UMSGPlC6YdLv",
        "outputId": "9a5e8b65-5984-421b-bbf9-dc422f118a7b"
      },
      "source": [
        "x0 = -4 # initial guess\r\n",
        "root_scalar(f,x0=x0, x1=x0+1e-4)    # use two guesses"
      ],
      "execution_count": null,
      "outputs": [
        {
          "output_type": "execute_result",
          "data": {
            "text/plain": [
              "      converged: True\n",
              "           flag: 'converged'\n",
              " function_calls: 8\n",
              "     iterations: 7\n",
              "           root: -3.0"
            ]
          },
          "metadata": {
            "tags": []
          },
          "execution_count": 25
        }
      ]
    }
  ]
}