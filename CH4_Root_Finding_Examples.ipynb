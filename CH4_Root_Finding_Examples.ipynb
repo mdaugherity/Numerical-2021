{
  "nbformat": 4,
  "nbformat_minor": 0,
  "metadata": {
    "colab": {
      "name": "CH4 - Root Finding Examples.ipynb",
      "provenance": [],
      "authorship_tag": "ABX9TyOJvWxIxpWMYGBn7TE7p4/D",
      "include_colab_link": true
    },
    "kernelspec": {
      "name": "python3",
      "display_name": "Python 3"
    }
  },
  "cells": [
    {
      "cell_type": "markdown",
      "metadata": {
        "id": "view-in-github",
        "colab_type": "text"
      },
      "source": [
        "<a href=\"https://colab.research.google.com/github/mdaugherity/Numerical-2021/blob/main/CH4_Root_Finding_Examples.ipynb\" target=\"_parent\"><img src=\"https://colab.research.google.com/assets/colab-badge.svg\" alt=\"Open In Colab\"/></a>"
      ]
    },
    {
      "cell_type": "code",
      "metadata": {
        "id": "ExsHp1V-L13o"
      },
      "source": [
        "import numpy as np\r\n",
        "import matplotlib.pyplot as plt"
      ],
      "execution_count": 1,
      "outputs": []
    },
    {
      "cell_type": "markdown",
      "metadata": {
        "id": "soTF1DpDL2jL"
      },
      "source": [
        "# Examples of root finding problems"
      ]
    },
    {
      "cell_type": "markdown",
      "metadata": {
        "id": "IL7RStGJMP4Z"
      },
      "source": [
        "# PROBLEM 1 \r\n",
        "Find E where PsiRight = 0.  Need EVERY root between E= 0 and 50"
      ]
    },
    {
      "cell_type": "code",
      "metadata": {
        "id": "Wp_bVhYLLpVe"
      },
      "source": [
        "def IntegrateTISE(x,V,E,psi0=0,psi1=1e-6):\r\n",
        "  '''\r\n",
        "  Uses eq (2.7) to calculate Psi by integrating the TISE\r\n",
        "  INPUT: x and V arrays, energy E, psi0=psi[0]=psi at x[0], psi1=psi[1]\r\n",
        "  RETURNS: psi array\r\n",
        "  '''\r\n",
        "# INITIALIZE\r\n",
        "  psi = np.zeros_like(x)\r\n",
        "  psi[0] = psi0\r\n",
        "  psi[1] = psi1\r\n",
        "  dx = x[1] - x[0]\r\n",
        "  N = len(x)\r\n",
        "\r\n",
        "  # MAIN LOOP\r\n",
        "  for i in range(2,N):\r\n",
        "    thisPsi = psi[i-1]\r\n",
        "    lastPsi = psi[i-2]\r\n",
        "    psi[i] = 2*thisPsi*(1 - dx**2 * (E-V[i])) - lastPsi # eq 2.7\r\n",
        "              \r\n",
        "  return psi"
      ],
      "execution_count": 2,
      "outputs": []
    },
    {
      "cell_type": "code",
      "metadata": {
        "id": "wDlT4TH5MF9j"
      },
      "source": [
        "def PsiRight(E, x, V):  # return only the last psi for root finding\r\n",
        "  psi = IntegrateTISE(x,V,E)\r\n",
        "  return psi[-1]"
      ],
      "execution_count": 3,
      "outputs": []
    },
    {
      "cell_type": "code",
      "metadata": {
        "id": "MJHBll5NMGrQ"
      },
      "source": [
        "xMax = 1.5\r\n",
        "dx = 0.001\r\n",
        "x = np.arange(-xMax,xMax+dx,dx)\r\n",
        "V = 50*np.heaviside(np.abs(x)-0.5,1) # Heaviside=0 for x<0, 1 for x>0"
      ],
      "execution_count": 5,
      "outputs": []
    },
    {
      "cell_type": "code",
      "metadata": {
        "colab": {
          "base_uri": "https://localhost:8080/"
        },
        "id": "pcQCD09gMd4z",
        "outputId": "c52d02bf-e6db-4318-8aa7-617de7deb211"
      },
      "source": [
        "PsiRight(10,x,V)"
      ],
      "execution_count": 6,
      "outputs": [
        {
          "output_type": "execute_result",
          "data": {
            "text/plain": [
              "-3172.798295974798"
            ]
          },
          "metadata": {
            "tags": []
          },
          "execution_count": 6
        }
      ]
    },
    {
      "cell_type": "code",
      "metadata": {
        "colab": {
          "base_uri": "https://localhost:8080/"
        },
        "id": "X8qAitc-Mttg",
        "outputId": "7a7b4e76-4ee6-4f8f-c0a8-16152efce422"
      },
      "source": [
        "PsiRight(20,x,V)"
      ],
      "execution_count": 7,
      "outputs": [
        {
          "output_type": "execute_result",
          "data": {
            "text/plain": [
              "347.71096245619435"
            ]
          },
          "metadata": {
            "tags": []
          },
          "execution_count": 7
        }
      ]
    }
  ]
}