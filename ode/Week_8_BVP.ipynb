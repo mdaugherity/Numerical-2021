{
  "nbformat": 4,
  "nbformat_minor": 0,
  "metadata": {
    "colab": {
      "name": "Week 8 - BVP.ipynb",
      "provenance": [],
      "collapsed_sections": [],
      "toc_visible": true,
      "authorship_tag": "ABX9TyOlTa8WP1ScQL+kWlqD9NZd",
      "include_colab_link": true
    },
    "kernelspec": {
      "name": "python3",
      "display_name": "Python 3"
    },
    "language_info": {
      "name": "python"
    }
  },
  "cells": [
    {
      "cell_type": "markdown",
      "metadata": {
        "id": "view-in-github",
        "colab_type": "text"
      },
      "source": [
        "<a href=\"https://colab.research.google.com/github/mdaugherity/Numerical-2021/blob/main/ode/Week_8_BVP.ipynb\" target=\"_parent\"><img src=\"https://colab.research.google.com/assets/colab-badge.svg\" alt=\"Open In Colab\"/></a>"
      ]
    },
    {
      "cell_type": "code",
      "metadata": {
        "id": "SzFuKkrJqV7w"
      },
      "source": [
        "import numpy as np\n",
        "import matplotlib.pyplot as plt\n",
        "from scipy.integrate import solve_ivp\n",
        "from scipy.integrate import solve_bvp"
      ],
      "execution_count": 44,
      "outputs": []
    },
    {
      "cell_type": "markdown",
      "metadata": {
        "id": "wEnQ3kazqftj"
      },
      "source": [
        "# EXAMPLE 1 - IVP vs BVP: 1D projectile motion\n",
        "\n",
        "y(t) = height of ball at time t\n",
        "\n",
        "y'' = -g"
      ]
    },
    {
      "cell_type": "markdown",
      "metadata": {
        "id": "cCAoZMOP2Jbq"
      },
      "source": [
        "## IVP Problem\n",
        "y(0) = 0, y'(0) = 15"
      ]
    },
    {
      "cell_type": "code",
      "metadata": {
        "colab": {
          "base_uri": "https://localhost:8080/",
          "height": 284
        },
        "id": "0WzG_KlBqj1V",
        "outputId": "9f3423a0-876b-4851-90ff-2eafc29d3f29"
      },
      "source": [
        "def f(t,y):\n",
        "  return [y[1], -9.8]\n",
        "\n",
        "y0 = [0, 15]  # Initial Values\n",
        "TMAX = 2\n",
        "\n",
        "t = np.linspace(0,TMAX, 50)\n",
        "ivp = solve_ivp(f, [0,TMAX], y0, t_eval = t)\n",
        "print(ivp.message)\n",
        "\n",
        "#t = ivp.t\n",
        "y = ivp.y[0]\n",
        "v = ivp.y[1]\n",
        "\n",
        "plt.plot(t,y,label='y')\n",
        "plt.plot(t,v,label='v')\n",
        "plt.legend()\n",
        "plt.grid()\n",
        "plt.title('IVP')\n",
        "plt.show()"
      ],
      "execution_count": 47,
      "outputs": [
        {
          "output_type": "stream",
          "text": [
            "The solver successfully reached the end of the integration interval.\n"
          ],
          "name": "stdout"
        },
        {
          "output_type": "display_data",
          "data": {
            "image/png": "[encoded data removed]",
            "text/plain": [
              "<Figure size 432x288 with 1 Axes>"
            ]
          },
          "metadata": {
            "tags": [],
            "needs_background": "light"
          }
        }
      ]
    },
    {
      "cell_type": "markdown",
      "metadata": {
        "id": "qJXBjVLntPPW"
      },
      "source": [
        "## SHOOTING METHOD!"
      ]
    },
    {
      "cell_type": "markdown",
      "metadata": {
        "id": "AzqJis6O2Pc8"
      },
      "source": [
        "Suppose instead of **initial values** $y(0), y'(0)$ we were given **boundary values** at different times.\n",
        "\n",
        "Calling *solve_ivp* requires the initial values, so we have to use root finding to \"shoot for\" the initial values that give us the boundary conditions we want!"
      ]
    },
    {
      "cell_type": "markdown",
      "metadata": {
        "id": "iaFbX-dI2xLl"
      },
      "source": [
        "## CASE 1:  y(0)=0, y(2)=10\n",
        "What initial speed does the ball have so that it is 10 m above the ground 2 seconds later?"
      ]
    },
    {
      "cell_type": "code",
      "metadata": {
        "id": "nTiRcKe-tRgE"
      },
      "source": [
        "# define a function to match BC\n",
        "# want y(2)=10\n",
        "def bvp(yp0):\n",
        "  y0 = [0, yp0]  # Initial Values\n",
        "  ivp = solve_ivp(f, [0,TMAX], y0)\n",
        "  return ivp.y[0][-1] - 10"
      ],
      "execution_count": 49,
      "outputs": []
    },
    {
      "cell_type": "code",
      "metadata": {
        "colab": {
          "base_uri": "https://localhost:8080/"
        },
        "id": "VbCaEvEZuLsq",
        "outputId": "5995b7e5-f423-4f2a-ce58-3b657c401bd9"
      },
      "source": [
        "# Play with function to estimate root\n",
        "bvp(15)"
      ],
      "execution_count": 50,
      "outputs": [
        {
          "output_type": "execute_result",
          "data": {
            "text/plain": [
              "0.4000000000000128"
            ]
          },
          "metadata": {
            "tags": []
          },
          "execution_count": 50
        }
      ]
    },
    {
      "cell_type": "code",
      "metadata": {
        "id": "vFgOsBuItuTS"
      },
      "source": [
        "from scipy.optimize import root_scalar"
      ],
      "execution_count": 51,
      "outputs": []
    },
    {
      "cell_type": "code",
      "metadata": {
        "colab": {
          "base_uri": "https://localhost:8080/"
        },
        "id": "LvQdHom3t9Ln",
        "outputId": "20e2c51e-560c-4f0c-9335-60e70aa4543d"
      },
      "source": [
        "# root is a little less than 15.  Use initial guesses x0,x1\n",
        "sol = root_scalar(bvp, x0=15, x1 = 14.9)\n",
        "print(sol)"
      ],
      "execution_count": 52,
      "outputs": [
        {
          "output_type": "stream",
          "text": [
            "      converged: True\n",
            "           flag: 'converged'\n",
            " function_calls: 3\n",
            "     iterations: 2\n",
            "           root: 14.799999999999995\n"
          ],
          "name": "stdout"
        }
      ]
    },
    {
      "cell_type": "code",
      "metadata": {
        "colab": {
          "base_uri": "https://localhost:8080/",
          "height": 300
        },
        "id": "JAMNgDW0uUmB",
        "outputId": "8cf798c0-dbd4-46f3-99aa-765508ec7d21"
      },
      "source": [
        "# Now that we know the right value for vp0, run solve_ivp one final time\n",
        "yp0 = sol.root\n",
        "y0 = [0, yp0]  # Initial Values\n",
        "t = np.linspace(0,TMAX, 50)\n",
        "ivp = solve_ivp(f, [0,TMAX], y0, t_eval = t)\n",
        "print(ivp.message)\n",
        "\n",
        "y = ivp.y[0]\n",
        "v = ivp.y[1]\n",
        "\n",
        "plt.plot(t,y,label='y')\n",
        "plt.plot(t,v,label='v')\n",
        "plt.legend()\n",
        "plt.grid()\n",
        "plt.title('IVP')\n",
        "plt.show()"
      ],
      "execution_count": 53,
      "outputs": [
        {
          "output_type": "stream",
          "text": [
            "The solver successfully reached the end of the integration interval.\n"
          ],
          "name": "stdout"
        },
        {
          "output_type": "display_data",
          "data": {
            "image/png": "[encoded data removed]",
            "text/plain": [
              "<Figure size 432x288 with 1 Axes>"
            ]
          },
          "metadata": {
            "tags": [],
            "needs_background": "light"
          }
        }
      ]
    },
    {
      "cell_type": "markdown",
      "metadata": {
        "id": "AXOwcLTg34rY"
      },
      "source": [
        "Yes indeed, we ended up at y(2)=10"
      ]
    },
    {
      "cell_type": "markdown",
      "metadata": {
        "id": "g6_cGQm1ugt1"
      },
      "source": [
        "## CASE 2: y(0)=0, y'(2)=5\n",
        "\n",
        "We'll do the problem in a single cell this time"
      ]
    },
    {
      "cell_type": "code",
      "metadata": {
        "colab": {
          "base_uri": "https://localhost:8080/",
          "height": 393
        },
        "id": "0b8ReV2jumTw",
        "outputId": "8f6c700e-396f-435d-8182-a45da0188755"
      },
      "source": [
        "def bvp(yp0):\n",
        "  y0 = [0, yp0]  # Initial Values\n",
        "  ivp = solve_ivp(f, [0,TMAX], y0)\n",
        "  return ivp.y[1][-1] - 5\n",
        "\n",
        "sol = root_scalar(bvp, bracket=[0,100])  # using a huge bracket\n",
        "print(sol)\n",
        "yp0 = sol.root\n",
        "\n",
        "y0 = [0, yp0]  # Initial Values\n",
        "TMAX = 2\n",
        "t = np.linspace(0,TMAX, 50)\n",
        "ivp = solve_ivp(f, [0,TMAX], y0, t_eval = t)\n",
        "print(ivp.message)\n",
        "\n",
        "y = ivp.y[0]\n",
        "v = ivp.y[1]\n",
        "\n",
        "plt.plot(t,y,label='y')\n",
        "plt.plot(t,v,label='v')\n",
        "plt.grid()\n",
        "plt.legend()\n",
        "plt.title('BVP 2')\n",
        "plt.show()"
      ],
      "execution_count": 58,
      "outputs": [
        {
          "output_type": "stream",
          "text": [
            "      converged: True\n",
            "           flag: 'converged'\n",
            " function_calls: 4\n",
            "     iterations: 3\n",
            "           root: 24.6\n",
            "The solver successfully reached the end of the integration interval.\n"
          ],
          "name": "stdout"
        },
        {
          "output_type": "display_data",
          "data": {
            "image/png": "[encoded data removed]",
            "text/plain": [
              "<Figure size 432x288 with 1 Axes>"
            ]
          },
          "metadata": {
            "tags": [],
            "needs_background": "light"
          }
        }
      ]
    },
    {
      "cell_type": "markdown",
      "metadata": {
        "id": "9Jx4fthgxU-F"
      },
      "source": [
        "# EXAMPLE 8.2\n",
        "y'' = 4t - 4y\n",
        "what y'(0) gives y'(2)=0"
      ]
    },
    {
      "cell_type": "code",
      "metadata": {
        "colab": {
          "base_uri": "https://localhost:8080/",
          "height": 393
        },
        "id": "6qc8VKoZxgKw",
        "outputId": "a87cb9e9-5012-4ad6-fbce-7d2cf5ae76ad"
      },
      "source": [
        "TMAX = 2\n",
        "\n",
        "def f(t,y):\n",
        "  y0 = y[0]\n",
        "  y1 = y[1]\n",
        "  return [y1, 4*t - 4*y0]\n",
        "\n",
        "def bvp(yp0):\n",
        "  y0 = [0, yp0]  # Initial Values\n",
        "  ivp = solve_ivp(f, [0,TMAX], y0)\n",
        "  return ivp.y[1][-1] - 0\n",
        "\n",
        "sol = root_scalar(bvp, bracket=[0,3])\n",
        "print(sol)\n",
        "yp0 = sol.root\n",
        "\n",
        "y0 = [0, yp0]  # Initial Values\n",
        "TMAX = 2\n",
        "t = np.linspace(0,TMAX, 50)\n",
        "ivp = solve_ivp(f, [0,TMAX], y0, t_eval = t)\n",
        "print(ivp.message)\n",
        "\n",
        "y = ivp.y[0]\n",
        "v = ivp.y[1]\n",
        "\n",
        "plt.plot(t,y,label='y')\n",
        "plt.plot(t,v, label='yp')\n",
        "plt.legend()\n",
        "plt.grid()\n",
        "plt.title('BVP 1')\n",
        "plt.show()"
      ],
      "execution_count": 60,
      "outputs": [
        {
          "output_type": "stream",
          "text": [
            "      converged: True\n",
            "           flag: 'converged'\n",
            " function_calls: 6\n",
            "     iterations: 5\n",
            "           root: 2.531252182876076\n",
            "The solver successfully reached the end of the integration interval.\n"
          ],
          "name": "stdout"
        },
        {
          "output_type": "display_data",
          "data": {
            "image/png": "[encoded data removed]",
            "text/plain": [
              "<Figure size 432x288 with 1 Axes>"
            ]
          },
          "metadata": {
            "tags": [],
            "needs_background": "light"
          }
        }
      ]
    },
    {
      "cell_type": "code",
      "metadata": {
        "colab": {
          "base_uri": "https://localhost:8080/"
        },
        "id": "l0J14NjB4zEP",
        "outputId": "247517d2-4fa5-4333-c069-f7d40a57f927"
      },
      "source": [
        "bvp(3)"
      ],
      "execution_count": 61,
      "outputs": [
        {
          "output_type": "execute_result",
          "data": {
            "text/plain": [
              "-0.30621965427060804"
            ]
          },
          "metadata": {
            "tags": []
          },
          "execution_count": 61
        }
      ]
    }
  ]
}