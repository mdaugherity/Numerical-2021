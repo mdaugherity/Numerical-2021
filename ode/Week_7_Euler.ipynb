{
  "nbformat": 4,
  "nbformat_minor": 0,
  "metadata": {
    "colab": {
      "name": "Week 7 - Euler.ipynb",
      "provenance": [],
      "collapsed_sections": [],
      "toc_visible": true,
      "authorship_tag": "ABX9TyN+u7HFSKD0Val2W+rQKNbZ",
      "include_colab_link": true
    },
    "kernelspec": {
      "name": "python3",
      "display_name": "Python 3"
    }
  },
  "cells": [
    {
      "cell_type": "markdown",
      "metadata": {
        "id": "view-in-github",
        "colab_type": "text"
      },
      "source": [
        "<a href=\"https://colab.research.google.com/github/mdaugherity/Numerical-2021/blob/main/ode/Week_7_Euler.ipynb\" target=\"_parent\"><img src=\"https://colab.research.google.com/assets/colab-badge.svg\" alt=\"Open In Colab\"/></a>"
      ]
    },
    {
      "cell_type": "code",
      "metadata": {
        "id": "-agdXLupYRIT"
      },
      "source": [
        "import numpy as np\n",
        "import matplotlib.pyplot as plt"
      ],
      "execution_count": 1,
      "outputs": []
    },
    {
      "cell_type": "markdown",
      "metadata": {
        "id": "zuFBtcyGYodd"
      },
      "source": [
        "# ODE IVP - Euler's Method\n",
        "Dr. Daugherity, PHYS 451 Spring 2021.\n",
        "\n",
        "Euler's Method is easy to implement but very slooooow to converge on the right answer.  Regardless, it is still a great starting point for undering how to solve ODE initial value problems.\n"
      ]
    },
    {
      "cell_type": "code",
      "metadata": {
        "id": "BtYEInUoaLlT"
      },
      "source": [
        "def euler(f,t,y0):\n",
        "  '''\n",
        "  Finds y from Euler's Method.  \n",
        "  INPUT: f(t,y) = function of derivatives; t = array of times; y0 = initial value\n",
        "  '''\n",
        "  y = np.zeros_like(t)\n",
        "  y[0] = y0\n",
        "\n",
        "  for i in range(len(t)-1):\n",
        "    y[i+1] = y[i] + (t[i+1]-t[i])*f(t[i],y[i])\n",
        "\n",
        "  return y"
      ],
      "execution_count": 2,
      "outputs": []
    },
    {
      "cell_type": "markdown",
      "metadata": {
        "id": "oaHYVgvnGM8N"
      },
      "source": [
        "# EXAMPLE 1 - Simple exponential\n",
        "\n",
        "$y'(t) = ky$ with an exact solution of  $y(t) = y_0e^{kt}$\n",
        "\n",
        "Play around with different numbers of points / step sizes to see what happens."
      ]
    },
    {
      "cell_type": "code",
      "metadata": {
        "colab": {
          "base_uri": "https://localhost:8080/",
          "height": 295
        },
        "id": "W5lH4rI7JJsc",
        "outputId": "93b1436b-4754-4fca-fa70-21cc7159104d"
      },
      "source": [
        "def f(t,y):\n",
        "  k = 1\n",
        "  return k*y   # returns derivative of y\n",
        "\n",
        "t = np.linspace(0, 5, num=50)\n",
        "y0 = 1\n",
        "y = euler(f,t,y0)\n",
        "\n",
        "# Exact\n",
        "tsol = np.linspace(0,5,200)\n",
        "k=1\n",
        "ysol = np.exp(k*tsol)\n",
        "\n",
        "plt.plot(tsol, ysol, 'r-',label='true')\n",
        "plt.plot(t,y,'.-',label='Euler')\n",
        "plt.legend()\n",
        "plt.xlabel('t')\n",
        "plt.ylabel('y')\n",
        "plt.title('Euler\\'s Method')\n",
        "plt.show()"
      ],
      "execution_count": 3,
      "outputs": [
        {
          "output_type": "display_data",
          "data": {
            "image/png": "[encoded data removed]",
            "text/plain": [
              "<Figure size 432x288 with 1 Axes>"
            ]
          },
          "metadata": {
            "tags": [],
            "needs_background": "light"
          }
        }
      ]
    },
    {
      "cell_type": "markdown",
      "metadata": {
        "id": "ICO4EgJHjfcZ"
      },
      "source": [
        "# EXAMPLE 2 - Radiative Cooling \n",
        "From https://nm.mathforcollege.com/mws/gen/08ode/mws_gen_ode_txt_euler.pdf \n",
        "\n"
      ]
    },
    {
      "cell_type": "code",
      "metadata": {
        "colab": {
          "base_uri": "https://localhost:8080/",
          "height": 283
        },
        "id": "mz8HivFGRrS1",
        "outputId": "4055a560-8dca-4866-a2aa-203ce777e7d5"
      },
      "source": [
        "# Define derivative function\n",
        "def f(t,y):\n",
        "  k = 2.2067e-12\n",
        "  a = 81e8\n",
        "  return -k*(y**4 - a)\n",
        "\n",
        "t = np.linspace(0, 480, 50)\n",
        "y = euler(f,t,1200)\n",
        "plt.plot(t,y,'.-')\n",
        "print('Temp at t=480 s is',y[-1])"
      ],
      "execution_count": 4,
      "outputs": [
        {
          "output_type": "stream",
          "text": [
            "Temp at t=480 s is 642.9407384340227\n"
          ],
          "name": "stdout"
        },
        {
          "output_type": "display_data",
          "data": {
            "image/png": "[encoded data removed]",
            "text/plain": [
              "<Figure size 432x288 with 1 Axes>"
            ]
          },
          "metadata": {
            "tags": [],
            "needs_background": "light"
          }
        }
      ]
    }
  ]
}