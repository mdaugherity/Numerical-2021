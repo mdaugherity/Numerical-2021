{
  "nbformat": 4,
  "nbformat_minor": 0,
  "metadata": {
    "colab": {
      "name": "Week 7 - solveivp.ipynb",
      "provenance": [],
      "collapsed_sections": [],
      "toc_visible": true,
      "authorship_tag": "ABX9TyNE8QYSyvy9+WuS5rNlfsQp",
      "include_colab_link": true
    },
    "kernelspec": {
      "name": "python3",
      "display_name": "Python 3"
    }
  },
  "cells": [
    {
      "cell_type": "markdown",
      "metadata": {
        "id": "view-in-github",
        "colab_type": "text"
      },
      "source": [
        "<a href=\"https://colab.research.google.com/github/mdaugherity/Numerical-2021/blob/main/ode/Week_7_solveivp.ipynb\" target=\"_parent\"><img src=\"https://colab.research.google.com/assets/colab-badge.svg\" alt=\"Open In Colab\"/></a>"
      ]
    },
    {
      "cell_type": "markdown",
      "metadata": {
        "id": "Ob9OjrrEB17F"
      },
      "source": [
        "**Dr. Daugherity, PHYS 451, Spring 2021**"
      ]
    },
    {
      "cell_type": "code",
      "metadata": {
        "id": "-agdXLupYRIT"
      },
      "source": [
        "import numpy as np\n",
        "import matplotlib.pyplot as plt\n",
        "from scipy.integrate import solve_ivp"
      ],
      "execution_count": 1,
      "outputs": []
    },
    {
      "cell_type": "markdown",
      "metadata": {
        "id": "zuFBtcyGYodd"
      },
      "source": [
        "# How to use solve_ivp\n",
        "\n",
        "You need to specify 3 parameters:\n",
        "```\n",
        "solve_ivp(fun, t_span, y0)\n",
        "```\n",
        "* fun must take (t,y) where y is scalar or array and return derivatives\n",
        "* t_span = [t0, tf] \n",
        "* y0 is **array** of initial values (it will not accept scalars)\n",
        "\n",
        "\n",
        "Other advice: \n",
        "* always check the message or success variable\n",
        "* start with RK45 method (or DOP853 for high precision), if it fails try BDF\n",
        "\n",
        "\n",
        "\n",
        "\n",
        "https://docs.scipy.org/doc/scipy/reference/generated/scipy.integrate.solve_ivp.html \n"
      ]
    },
    {
      "cell_type": "markdown",
      "metadata": {
        "id": "oaHYVgvnGM8N"
      },
      "source": [
        "# EXAMPLE 1 - Simple exponential\n",
        "\n",
        "$y'(t) = ky$ with an exact solution of  $y(t) = y_0e^{kt}$\n",
        "\n",
        "This is a step-by-step walkthrough of what solve_ivp does"
      ]
    },
    {
      "cell_type": "code",
      "metadata": {
        "colab": {
          "base_uri": "https://localhost:8080/"
        },
        "id": "fMQ5wO6PCGZ3",
        "outputId": "e4cb4276-c099-408e-af25-c75ebc1f31df"
      },
      "source": [
        "def f(t,y):\n",
        "  k = 1\n",
        "  return k*y   # returns derivative of y\n",
        "\n",
        "y0 = 1\n",
        "sol = solve_ivp(f, [0,5],[y0])\n",
        "print(sol)"
      ],
      "execution_count": 17,
      "outputs": [
        {
          "output_type": "stream",
          "text": [
            "  message: 'The solver successfully reached the end of the integration interval.'\n",
            "     nfev: 32\n",
            "     njev: 0\n",
            "      nlu: 0\n",
            "      sol: None\n",
            "   status: 0\n",
            "  success: True\n",
            "        t: array([0.        , 0.10001999, 1.06609106, 2.30431769, 3.64528981,\n",
            "       5.        ])\n",
            " t_events: None\n",
            "        y: array([[  1.        ,   1.10519301,   2.9040598 ,  10.01740317,\n",
            "         38.29174533, 148.39440874]])\n",
            " y_events: None\n"
          ],
          "name": "stdout"
        }
      ]
    },
    {
      "cell_type": "code",
      "metadata": {
        "colab": {
          "base_uri": "https://localhost:8080/"
        },
        "id": "Vz3r_O7QCykN",
        "outputId": "e2d88f1f-40d4-48f6-967d-8e2cce2d01e2"
      },
      "source": [
        "# always check the message (or least the success)\n",
        "print(sol.message)"
      ],
      "execution_count": 18,
      "outputs": [
        {
          "output_type": "stream",
          "text": [
            "The solver successfully reached the end of the integration interval.\n"
          ],
          "name": "stdout"
        }
      ]
    },
    {
      "cell_type": "code",
      "metadata": {
        "colab": {
          "base_uri": "https://localhost:8080/"
        },
        "id": "VmHGB9OmtLnW",
        "outputId": "a0af24ed-7207-4fc6-f439-81e72f9faa50"
      },
      "source": [
        "# The results are in the t and y variables\n",
        "t_ivp = sol.t\n",
        "y_ivp = sol.y[0]  # y is always a 2D array!\n",
        "print(t_ivp)\n",
        "print(y_ivp)"
      ],
      "execution_count": 20,
      "outputs": [
        {
          "output_type": "stream",
          "text": [
            "[0.         0.10001999 1.06609106 2.30431769 3.64528981 5.        ]\n",
            "[  1.           1.10519301   2.9040598   10.01740317  38.29174533\n",
            " 148.39440874]\n"
          ],
          "name": "stdout"
        }
      ]
    },
    {
      "cell_type": "markdown",
      "metadata": {
        "id": "mU0JyChyDPQ6"
      },
      "source": [
        "Include Euler's method for comparison plots below"
      ]
    },
    {
      "cell_type": "code",
      "metadata": {
        "id": "BtYEInUoaLlT"
      },
      "source": [
        "def euler(f,t,y0):\n",
        "  '''\n",
        "  Finds y from Euler's Method.  \n",
        "  INPUT: f(t,y) = function of derivatives; t = array of times; y0 = initial value\n",
        "  '''\n",
        "  y = np.zeros_like(t)\n",
        "  y[0] = y0\n",
        "\n",
        "  for i in range(len(t)-1):\n",
        "    y[i+1] = y[i] + (t[i+1]-t[i])*f(t[i],y[i])\n",
        "\n",
        "  return y"
      ],
      "execution_count": 2,
      "outputs": []
    },
    {
      "cell_type": "code",
      "metadata": {
        "colab": {
          "base_uri": "https://localhost:8080/",
          "height": 295
        },
        "id": "TATwpuHIsqev",
        "outputId": "2a3dbc02-5148-46af-853c-d7f44501a45d"
      },
      "source": [
        "t = np.linspace(0, 5, num=50)\n",
        "y0 = 1\n",
        "y = euler(f,t,y0)\n",
        "\n",
        "# Exact\n",
        "tsol = np.linspace(0,5,200)\n",
        "k=1\n",
        "ysol = np.exp(k*tsol)\n",
        "\n",
        "plt.plot(tsol, ysol, 'r-',label='true')\n",
        "plt.plot(t,y,'.-',label='Euler')\n",
        "plt.plot(t_ivp,y_ivp,'s-',label='IVP')\n",
        "\n",
        "plt.legend()\n",
        "plt.xlabel('t')\n",
        "plt.ylabel('y')\n",
        "plt.title('Euler\\'s Method')\n",
        "plt.show()\n"
      ],
      "execution_count": 10,
      "outputs": [
        {
          "output_type": "display_data",
          "data": {
            "image/png": "[encoded data removed]",
            "text/plain": [
              "<Figure size 432x288 with 1 Axes>"
            ]
          },
          "metadata": {
            "tags": [],
            "needs_background": "light"
          }
        }
      ]
    },
    {
      "cell_type": "markdown",
      "metadata": {
        "id": "ICO4EgJHjfcZ"
      },
      "source": [
        "# EXAMPLE 2 - Radiative Cooling \n",
        "From https://nm.mathforcollege.com/mws/gen/08ode/mws_gen_ode_txt_euler.pdf \n",
        "\n"
      ]
    },
    {
      "cell_type": "code",
      "metadata": {
        "colab": {
          "base_uri": "https://localhost:8080/",
          "height": 283
        },
        "id": "mz8HivFGRrS1",
        "outputId": "d9a4a15f-2601-4178-bde0-18f4d14ec625"
      },
      "source": [
        "# Define derivative function\n",
        "def f(t,y):\n",
        "  k = 2.2067e-12\n",
        "  a = 81e8\n",
        "  return -k*(y**4 - a)\n",
        "\n",
        "sol = solve_ivp(f, [0,480],[1200]   )\n",
        "t_ivp = sol.t\n",
        "y_ivp = sol.y[0]\n",
        "\n",
        "\n",
        "t = np.linspace(0, 480, 50)\n",
        "y = euler(f,t,1200)\n",
        "plt.plot(t,y,'.-')\n",
        "plt.plot(t_ivp,y_ivp,'s-',label='IVP')"
      ],
      "execution_count": 13,
      "outputs": [
        {
          "output_type": "stream",
          "text": [
            "Temp at t=480 s is 642.9407384340227\n"
          ],
          "name": "stdout"
        },
        {
          "output_type": "display_data",
          "data": {
            "image/png": "[encoded data removed]",
            "text/plain": [
              "<Figure size 432x288 with 1 Axes>"
            ]
          },
          "metadata": {
            "tags": [],
            "needs_background": "light"
          }
        }
      ]
    },
    {
      "cell_type": "markdown",
      "metadata": {
        "id": "jPz7xnZWv0Nl"
      },
      "source": [
        "# EXAMPLE 3 - Free Fall\n",
        "2nd (or higher) order problems are solved by \"unrolling\" into a N first-order equations\n",
        "\n",
        "Solve the free fall problem:  $y'' = -g$\n",
        "\n",
        "Define $y_0 = y(t),  y_1 = y'(t)$.  The derivative function returns both $y_0' = y_1$ and $y_1' = y'' = -g$."
      ]
    },
    {
      "cell_type": "code",
      "metadata": {
        "colab": {
          "base_uri": "https://localhost:8080/",
          "height": 265
        },
        "id": "0eddkQIOv1ZU",
        "outputId": "40832206-607a-427f-8d9f-605a8ab22fc1"
      },
      "source": [
        "def f(t,y):\n",
        "  y0 = y[0]\n",
        "  y1 = y[1]\n",
        "  return [y1, -9.8] \n",
        "\n",
        "tf = 6\n",
        "y0 = 10\n",
        "v0 = 20\n",
        "sol = solve_ivp(f, [0,tf],[y0, v0]   )\n",
        "t_ivp = sol.t\n",
        "y_ivp = sol.y[0]\n",
        "\n",
        "# Exact solution\n",
        "t = np.linspace(0, tf, 100)\n",
        "y = y0 + v0*t - 0.5*9.8*t**2\n",
        "\n",
        "plt.plot(t,y,'-')\n",
        "plt.plot(t_ivp,y_ivp,'s-',label='IVP')\n",
        "plt.show()"
      ],
      "execution_count": 22,
      "outputs": [
        {
          "output_type": "display_data",
          "data": {
            "image/png": "[encoded data removed]",
            "text/plain": [
              "<Figure size 432x288 with 1 Axes>"
            ]
          },
          "metadata": {
            "tags": [],
            "needs_background": "light"
          }
        }
      ]
    }
  ]
}