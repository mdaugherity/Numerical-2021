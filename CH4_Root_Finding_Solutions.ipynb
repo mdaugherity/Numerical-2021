{
  "nbformat": 4,
  "nbformat_minor": 0,
  "metadata": {
    "colab": {
      "name": "CH4 - Root Finding Solutions.ipynb",
      "provenance": [],
      "collapsed_sections": [],
      "authorship_tag": "ABX9TyNTqje/vV9qKzRN+Tb9/K+l",
      "include_colab_link": true
    },
    "kernelspec": {
      "name": "python3",
      "display_name": "Python 3"
    }
  },
  "cells": [
    {
      "cell_type": "markdown",
      "metadata": {
        "id": "view-in-github",
        "colab_type": "text"
      },
      "source": [
        "<a href=\"https://colab.research.google.com/github/mdaugherity/Numerical-2021/blob/main/CH4_Root_Finding_Solutions.ipynb\" target=\"_parent\"><img src=\"https://colab.research.google.com/assets/colab-badge.svg\" alt=\"Open In Colab\"/></a>"
      ]
    },
    {
      "cell_type": "code",
      "metadata": {
        "id": "ExsHp1V-L13o"
      },
      "source": [
        "import numpy as np\r\n",
        "import matplotlib.pyplot as plt"
      ],
      "execution_count": 1,
      "outputs": []
    },
    {
      "cell_type": "markdown",
      "metadata": {
        "id": "soTF1DpDL2jL"
      },
      "source": [
        "# Examples of root finding problems"
      ]
    },
    {
      "cell_type": "markdown",
      "metadata": {
        "id": "IL7RStGJMP4Z"
      },
      "source": [
        "# PROBLEM 1 \r\n",
        "Find E where PsiRight = 0.  Need EVERY root between E= 0 and 50"
      ]
    },
    {
      "cell_type": "code",
      "metadata": {
        "id": "Wp_bVhYLLpVe"
      },
      "source": [
        "def IntegrateTISE(x,V,E,psi0=0,psi1=1e-6):\r\n",
        "  '''\r\n",
        "  Uses eq (2.7) to calculate Psi by integrating the TISE\r\n",
        "  INPUT: x and V arrays, energy E, psi0=psi[0]=psi at x[0], psi1=psi[1]\r\n",
        "  RETURNS: psi array\r\n",
        "  '''\r\n",
        "# INITIALIZE\r\n",
        "  psi = np.zeros_like(x)\r\n",
        "  psi[0] = psi0\r\n",
        "  psi[1] = psi1\r\n",
        "  dx = x[1] - x[0]\r\n",
        "  N = len(x)\r\n",
        "\r\n",
        "  # MAIN LOOP\r\n",
        "  for i in range(2,N):\r\n",
        "    thisPsi = psi[i-1]\r\n",
        "    lastPsi = psi[i-2]\r\n",
        "    psi[i] = 2*thisPsi*(1 - dx**2 * (E-V[i])) - lastPsi # eq 2.7\r\n",
        "              \r\n",
        "  return psi"
      ],
      "execution_count": 2,
      "outputs": []
    },
    {
      "cell_type": "code",
      "metadata": {
        "id": "wDlT4TH5MF9j"
      },
      "source": [
        "def PsiRight(E, x, V):  # return only the last psi for root finding\r\n",
        "  psi = IntegrateTISE(x,V,E)\r\n",
        "  return psi[-1]"
      ],
      "execution_count": 3,
      "outputs": []
    },
    {
      "cell_type": "code",
      "metadata": {
        "id": "MJHBll5NMGrQ"
      },
      "source": [
        "xMax = 1.5\r\n",
        "dx = 0.001\r\n",
        "x = np.arange(-xMax,xMax+dx,dx)\r\n",
        "V = 50*np.heaviside(np.abs(x)-0.5,1) # Heaviside=0 for x<0, 1 for x>0"
      ],
      "execution_count": 4,
      "outputs": []
    },
    {
      "cell_type": "code",
      "metadata": {
        "colab": {
          "base_uri": "https://localhost:8080/"
        },
        "id": "pcQCD09gMd4z",
        "outputId": "291485e3-a7ac-4465-aa9f-59ccec315262"
      },
      "source": [
        "PsiRight(10,x,V)"
      ],
      "execution_count": 5,
      "outputs": [
        {
          "output_type": "execute_result",
          "data": {
            "text/plain": [
              "-3172.798295974798"
            ]
          },
          "metadata": {
            "tags": []
          },
          "execution_count": 5
        }
      ]
    },
    {
      "cell_type": "code",
      "metadata": {
        "colab": {
          "base_uri": "https://localhost:8080/"
        },
        "id": "X8qAitc-Mttg",
        "outputId": "8ebadbda-00d8-4609-a176-0c9e5e7d0dfd"
      },
      "source": [
        "PsiRight(20,x,V)"
      ],
      "execution_count": 6,
      "outputs": [
        {
          "output_type": "execute_result",
          "data": {
            "text/plain": [
              "347.71096245619435"
            ]
          },
          "metadata": {
            "tags": []
          },
          "execution_count": 6
        }
      ]
    },
    {
      "cell_type": "markdown",
      "metadata": {
        "id": "8jtp4qMh-Bz9"
      },
      "source": [
        "# SOLUTIONS\r\n",
        "\r\n",
        "My best advice:\r\n",
        "## PLOT the FUNCTION"
      ]
    },
    {
      "cell_type": "code",
      "metadata": {
        "id": "PDGzyhKhtgN6",
        "colab": {
          "base_uri": "https://localhost:8080/",
          "height": 269
        },
        "outputId": "7b7a6168-699b-446b-d39c-4796e54ebdc9"
      },
      "source": [
        "E = np.linspace(0,50)\r\n",
        "y = np.zeros_like(E)\r\n",
        "for i in range(len(E)):\r\n",
        "  e = E[i]\r\n",
        "  y[i] = PsiRight(e,x,V)\r\n",
        "\r\n",
        "plt.plot(E,y)\r\n",
        "plt.ylim(-1,1)\r\n",
        "plt.grid()"
      ],
      "execution_count": 7,
      "outputs": [
        {
          "output_type": "display_data",
          "data": {
            "image/png": "[encoded data removed]",
            "text/plain": [
              "<Figure size 432x288 with 1 Axes>"
            ]
          },
          "metadata": {
            "tags": [],
            "needs_background": "light"
          }
        }
      ]
    },
    {
      "cell_type": "code",
      "metadata": {
        "id": "bxY92ldsuUBo"
      },
      "source": [
        "from scipy.optimize import root_scalar"
      ],
      "execution_count": 8,
      "outputs": []
    },
    {
      "cell_type": "code",
      "metadata": {
        "id": "zoeTJDTDuYyH",
        "colab": {
          "base_uri": "https://localhost:8080/"
        },
        "outputId": "935b3900-dc94-4cce-d922-987884439142"
      },
      "source": [
        "root_scalar(PsiRight, args=(x,V), bracket=[1,5] )"
      ],
      "execution_count": 9,
      "outputs": [
        {
          "output_type": "execute_result",
          "data": {
            "text/plain": [
              "      converged: True\n",
              "           flag: 'converged'\n",
              " function_calls: 15\n",
              "     iterations: 14\n",
              "           root: 3.4135557441253193"
            ]
          },
          "metadata": {
            "tags": []
          },
          "execution_count": 9
        }
      ]
    },
    {
      "cell_type": "code",
      "metadata": {
        "id": "y5uBRYLSup0G",
        "colab": {
          "base_uri": "https://localhost:8080/"
        },
        "outputId": "25f64079-12da-4a6c-a2e9-07f3ba9e0585"
      },
      "source": [
        "root_scalar(PsiRight, args=(x,V), bracket=[10,15] )"
      ],
      "execution_count": 10,
      "outputs": [
        {
          "output_type": "execute_result",
          "data": {
            "text/plain": [
              "      converged: True\n",
              "           flag: 'converged'\n",
              " function_calls: 17\n",
              "     iterations: 16\n",
              "           root: 13.475651827468985"
            ]
          },
          "metadata": {
            "tags": []
          },
          "execution_count": 10
        }
      ]
    },
    {
      "cell_type": "code",
      "metadata": {
        "id": "XtFQrteFuwHd",
        "colab": {
          "base_uri": "https://localhost:8080/"
        },
        "outputId": "91b5a0b0-bf35-4151-9f27-83ab85e5aa20"
      },
      "source": [
        "root_scalar(PsiRight, args=(x,V), x0=13, x1=14 )"
      ],
      "execution_count": 11,
      "outputs": [
        {
          "output_type": "execute_result",
          "data": {
            "text/plain": [
              "      converged: True\n",
              "           flag: 'converged'\n",
              " function_calls: 7\n",
              "     iterations: 6\n",
              "           root: 13.475651827489223"
            ]
          },
          "metadata": {
            "tags": []
          },
          "execution_count": 11
        }
      ]
    },
    {
      "cell_type": "code",
      "metadata": {
        "id": "dZw8qSz0u2pO",
        "colab": {
          "base_uri": "https://localhost:8080/"
        },
        "outputId": "66963cdb-0530-4919-b4b3-09f4d574a6cd"
      },
      "source": [
        "root_scalar(PsiRight, args=(x,V), bracket=[25,30] )"
      ],
      "execution_count": 12,
      "outputs": [
        {
          "output_type": "execute_result",
          "data": {
            "text/plain": [
              "      converged: True\n",
              "           flag: 'converged'\n",
              " function_calls: 14\n",
              "     iterations: 13\n",
              "           root: 29.452156557535297"
            ]
          },
          "metadata": {
            "tags": []
          },
          "execution_count": 12
        }
      ]
    },
    {
      "cell_type": "code",
      "metadata": {
        "id": "TpUo_yKCvAZ_",
        "colab": {
          "base_uri": "https://localhost:8080/"
        },
        "outputId": "43b4e58b-460d-4546-8aad-bcfe25a3e3f7"
      },
      "source": [
        "root_scalar(PsiRight, args=(x,V), bracket=[40,50] )"
      ],
      "execution_count": 13,
      "outputs": [
        {
          "output_type": "execute_result",
          "data": {
            "text/plain": [
              "      converged: True\n",
              "           flag: 'converged'\n",
              " function_calls: 29\n",
              "     iterations: 28\n",
              "           root: 48.227034323456806"
            ]
          },
          "metadata": {
            "tags": []
          },
          "execution_count": 13
        }
      ]
    },
    {
      "cell_type": "code",
      "metadata": {
        "id": "mRLpq1HpvC29"
      },
      "source": [
        ""
      ],
      "execution_count": 13,
      "outputs": []
    }
  ]
}