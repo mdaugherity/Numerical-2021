{
  "nbformat": 4,
  "nbformat_minor": 0,
  "metadata": {
    "colab": {
      "name": "Week 4 - Bisection Demo.ipynb",
      "provenance": [],
      "collapsed_sections": [],
      "authorship_tag": "ABX9TyOnaDv6kP4FMS6N+62n5xSU",
      "include_colab_link": true
    },
    "kernelspec": {
      "name": "python3",
      "display_name": "Python 3"
    }
  },
  "cells": [
    {
      "cell_type": "markdown",
      "metadata": {
        "id": "view-in-github",
        "colab_type": "text"
      },
      "source": [
        "<a href=\"https://colab.research.google.com/github/mdaugherity/Numerical-2021/blob/main/Week_4_Bisection_Demo.ipynb\" target=\"_parent\"><img src=\"https://colab.research.google.com/assets/colab-badge.svg\" alt=\"Open In Colab\"/></a>"
      ]
    },
    {
      "cell_type": "code",
      "metadata": {
        "id": "VEMSF6YMm8PI"
      },
      "source": [
        "import numpy as np\r\n",
        "import matplotlib.pyplot as plt"
      ],
      "execution_count": 2,
      "outputs": []
    },
    {
      "cell_type": "markdown",
      "metadata": {
        "id": "vibliz72KXjZ"
      },
      "source": [
        "Define a function to find roots for:\r\n",
        "\r\n",
        " $f(x)=0$\r\n",
        "   "
      ]
    },
    {
      "cell_type": "code",
      "metadata": {
        "id": "WaHsEHPBnCll"
      },
      "source": [
        "def f(x):\r\n",
        "  return 5-x  # a difficult equation, the solution is x=5 "
      ],
      "execution_count": 3,
      "outputs": []
    },
    {
      "cell_type": "markdown",
      "metadata": {
        "id": "9RcLFTgfLA77"
      },
      "source": [
        "## VERSION 1 - simple loop"
      ]
    },
    {
      "cell_type": "code",
      "metadata": {
        "colab": {
          "base_uri": "https://localhost:8080/"
        },
        "id": "ZMKT17AAnTT8",
        "outputId": "e887c554-8333-4865-e238-eddcf3b66518"
      },
      "source": [
        "xl = 1\r\n",
        "xr = 10\r\n",
        "fl = f(xl)\r\n",
        "fr = f(xr)\r\n",
        "\r\n",
        "STEPS = 20\r\n",
        "print(f\"i\\t left\\t mid\\t right\")\r\n",
        "for i in range(STEPS):\r\n",
        "  xm = (xl+xr)/2\r\n",
        "  fm = f(xm)\r\n",
        "  print(f\"{i}\\t{xl}\\t{xm}\\t{xr}\")\r\n",
        "  if fl*fm<0:  # left and mid have diff signs\r\n",
        "    xr = xm  # root between xl and xm\r\n",
        "    fr = fm\r\n",
        "  else:\r\n",
        "    xl = xm  # root between xm and xr\r\n",
        "    fl = fm  \r\n",
        "  \r\n",
        "print('root is between:',xl,' and ', xr)"
      ],
      "execution_count": 4,
      "outputs": [
        {
          "output_type": "stream",
          "text": [
            "i\t left\t mid\t right\n",
            "0\t1\t5.5\t10\n",
            "1\t1\t3.25\t5.5\n",
            "2\t3.25\t4.375\t5.5\n",
            "3\t4.375\t4.9375\t5.5\n",
            "4\t4.9375\t5.21875\t5.5\n",
            "5\t4.9375\t5.078125\t5.21875\n",
            "6\t4.9375\t5.0078125\t5.078125\n",
            "7\t4.9375\t4.97265625\t5.0078125\n",
            "8\t4.97265625\t4.990234375\t5.0078125\n",
            "9\t4.990234375\t4.9990234375\t5.0078125\n",
            "10\t4.9990234375\t5.00341796875\t5.0078125\n",
            "11\t4.9990234375\t5.001220703125\t5.00341796875\n",
            "12\t4.9990234375\t5.0001220703125\t5.001220703125\n",
            "13\t4.9990234375\t4.99957275390625\t5.0001220703125\n",
            "14\t4.99957275390625\t4.999847412109375\t5.0001220703125\n",
            "15\t4.999847412109375\t4.9999847412109375\t5.0001220703125\n",
            "16\t4.9999847412109375\t5.000053405761719\t5.0001220703125\n",
            "17\t4.9999847412109375\t5.000019073486328\t5.000053405761719\n",
            "18\t4.9999847412109375\t5.000001907348633\t5.000019073486328\n",
            "19\t4.9999847412109375\t4.999993324279785\t5.000001907348633\n",
            "root is between: 4.999993324279785  and  5.000001907348633\n"
          ],
          "name": "stdout"
        }
      ]
    },
    {
      "cell_type": "markdown",
      "metadata": {
        "id": "QXkuR1nALE1e"
      },
      "source": [
        "## VERSION 2 - Define max error tolerance\r\n",
        "\r\n",
        "Notice that machine precision means we can't get errors smaller than $10^{-15}$ reliably.   "
      ]
    },
    {
      "cell_type": "code",
      "metadata": {
        "colab": {
          "base_uri": "https://localhost:8080/"
        },
        "id": "1dDTOYDMn_ZV",
        "outputId": "1bd2be61-58c5-4e95-d1d4-68a4279fadfc"
      },
      "source": [
        "xl = 1\r\n",
        "xr = 10\r\n",
        "fl = f(xl)\r\n",
        "fr = f(xr)\r\n",
        "err = xr-xl\r\n",
        "tol = 1e-10  # max error goal\r\n",
        "print(f\"err\\t left\\t mid\\t right\")\r\n",
        "while err>tol:\r\n",
        "  xm = (xl+xr)/2\r\n",
        "  fm = f(xm)\r\n",
        "  \r\n",
        "  if fl*fm<0:  # left and mid have diff signs\r\n",
        "    xr = xm  # root between xl and xm\r\n",
        "    fr = fm\r\n",
        "  else:\r\n",
        "    xl = xm  # root between xm and xr\r\n",
        "    fl = fm  \r\n",
        "  err = xr-xl\r\n",
        "  print(f\"{err}\\t{xl}\\t{xm}\\t{xr}\")\r\n",
        "  \r\n",
        "print('root is between:',xl,' and ', xr)\r\n"
      ],
      "execution_count": 6,
      "outputs": [
        {
          "output_type": "stream",
          "text": [
            "err\t left\t mid\t right\n",
            "4.5\t1\t5.5\t5.5\n",
            "2.25\t3.25\t3.25\t5.5\n",
            "1.125\t4.375\t4.375\t5.5\n",
            "0.5625\t4.9375\t4.9375\t5.5\n",
            "0.28125\t4.9375\t5.21875\t5.21875\n",
            "0.140625\t4.9375\t5.078125\t5.078125\n",
            "0.0703125\t4.9375\t5.0078125\t5.0078125\n",
            "0.03515625\t4.97265625\t4.97265625\t5.0078125\n",
            "0.017578125\t4.990234375\t4.990234375\t5.0078125\n",
            "0.0087890625\t4.9990234375\t4.9990234375\t5.0078125\n",
            "0.00439453125\t4.9990234375\t5.00341796875\t5.00341796875\n",
            "0.002197265625\t4.9990234375\t5.001220703125\t5.001220703125\n",
            "0.0010986328125\t4.9990234375\t5.0001220703125\t5.0001220703125\n",
            "0.00054931640625\t4.99957275390625\t4.99957275390625\t5.0001220703125\n",
            "0.000274658203125\t4.999847412109375\t4.999847412109375\t5.0001220703125\n",
            "0.0001373291015625\t4.9999847412109375\t4.9999847412109375\t5.0001220703125\n",
            "6.866455078125e-05\t4.9999847412109375\t5.000053405761719\t5.000053405761719\n",
            "3.4332275390625e-05\t4.9999847412109375\t5.000019073486328\t5.000019073486328\n",
            "1.71661376953125e-05\t4.9999847412109375\t5.000001907348633\t5.000001907348633\n",
            "8.58306884765625e-06\t4.999993324279785\t4.999993324279785\t5.000001907348633\n",
            "4.291534423828125e-06\t4.999997615814209\t4.999997615814209\t5.000001907348633\n",
            "2.1457672119140625e-06\t4.999999761581421\t4.999999761581421\t5.000001907348633\n",
            "1.0728836059570312e-06\t4.999999761581421\t5.000000834465027\t5.000000834465027\n",
            "5.364418029785156e-07\t4.999999761581421\t5.000000298023224\t5.000000298023224\n",
            "2.682209014892578e-07\t4.999999761581421\t5.000000029802322\t5.000000029802322\n",
            "1.341104507446289e-07\t4.999999895691872\t4.999999895691872\t5.000000029802322\n",
            "6.705522537231445e-08\t4.999999962747097\t4.999999962747097\t5.000000029802322\n",
            "3.3527612686157227e-08\t4.99999999627471\t4.99999999627471\t5.000000029802322\n",
            "1.6763806343078613e-08\t4.99999999627471\t5.000000013038516\t5.000000013038516\n",
            "8.381903171539307e-09\t4.99999999627471\t5.000000004656613\t5.000000004656613\n",
            "4.190951585769653e-09\t4.99999999627471\t5.000000000465661\t5.000000000465661\n",
            "2.0954757928848267e-09\t4.9999999983701855\t4.9999999983701855\t5.000000000465661\n",
            "1.0477378964424133e-09\t4.999999999417923\t4.999999999417923\t5.000000000465661\n",
            "5.238689482212067e-10\t4.999999999941792\t4.999999999941792\t5.000000000465661\n",
            "2.6193447411060333e-10\t4.999999999941792\t5.000000000203727\t5.000000000203727\n",
            "1.3096723705530167e-10\t4.999999999941792\t5.00000000007276\t5.00000000007276\n",
            "6.548361852765083e-11\t4.999999999941792\t5.000000000007276\t5.000000000007276\n",
            "root is between: 4.999999999941792  and  5.000000000007276\n"
          ],
          "name": "stdout"
        }
      ]
    }
  ]
}