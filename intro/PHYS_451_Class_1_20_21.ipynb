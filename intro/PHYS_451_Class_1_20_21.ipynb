{
  "nbformat": 4,
  "nbformat_minor": 0,
  "metadata": {
    "colab": {
      "name": "PHYS 451 - Class 1-20-21.ipynb",
      "provenance": [],
      "collapsed_sections": [],
      "authorship_tag": "ABX9TyOZ4xstROcfIvvqRSQUeHhm",
      "include_colab_link": true
    },
    "kernelspec": {
      "name": "python3",
      "display_name": "Python 3"
    }
  },
  "cells": [
    {
      "cell_type": "markdown",
      "metadata": {
        "id": "view-in-github",
        "colab_type": "text"
      },
      "source": [
        "<a href=\"https://colab.research.google.com/github/mdaugherity/Numerical-2021/blob/main/PHYS_451_Class_1_20_21.ipynb\" target=\"_parent\"><img src=\"https://colab.research.google.com/assets/colab-badge.svg\" alt=\"Open In Colab\"/></a>"
      ]
    },
    {
      "cell_type": "code",
      "metadata": {
        "colab": {
          "base_uri": "https://localhost:8080/"
        },
        "id": "vrBB1mMxG3N2",
        "outputId": "068f0caa-a81f-4499-bf04-08905d01ff88"
      },
      "source": [
        "2.6 + 0.6"
      ],
      "execution_count": null,
      "outputs": [
        {
          "output_type": "execute_result",
          "data": {
            "text/plain": [
              "3.2"
            ]
          },
          "metadata": {
            "tags": []
          },
          "execution_count": 26
        }
      ]
    },
    {
      "cell_type": "code",
      "metadata": {
        "colab": {
          "base_uri": "https://localhost:8080/"
        },
        "id": "oiug2JAWG-K9",
        "outputId": "2fed23fd-a5ff-4bdf-eeb2-6e336a969d93"
      },
      "source": [
        "2.6 + 0.2 + 0.2 + 0.2"
      ],
      "execution_count": null,
      "outputs": [
        {
          "output_type": "execute_result",
          "data": {
            "text/plain": [
              "3.2000000000000006"
            ]
          },
          "metadata": {
            "tags": []
          },
          "execution_count": 27
        }
      ]
    },
    {
      "cell_type": "markdown",
      "metadata": {
        "id": "1IOAsNsfHJWK"
      },
      "source": [
        "### COMPUTERS STORE APPROXIMATE NUMBERS, NOT EQUATIONS!!!!!"
      ]
    },
    {
      "cell_type": "code",
      "metadata": {
        "colab": {
          "base_uri": "https://localhost:8080/",
          "height": 36
        },
        "id": "y4HWXaELIgMp",
        "outputId": "770f67a9-4177-4972-bb1e-fc5f3158bc95"
      },
      "source": [
        "bin(26)"
      ],
      "execution_count": null,
      "outputs": [
        {
          "output_type": "execute_result",
          "data": {
            "application/vnd.google.colaboratory.intrinsic+json": {
              "type": "string"
            },
            "text/plain": [
              "'0b11010'"
            ]
          },
          "metadata": {
            "tags": []
          },
          "execution_count": 28
        }
      ]
    },
    {
      "cell_type": "code",
      "metadata": {
        "colab": {
          "base_uri": "https://localhost:8080/"
        },
        "id": "xlTVRhWsJSw1",
        "outputId": "d97ec61a-3cc3-4ec5-beff-d90b10e104b6"
      },
      "source": [
        "13/32"
      ],
      "execution_count": null,
      "outputs": [
        {
          "output_type": "execute_result",
          "data": {
            "text/plain": [
              "0.40625"
            ]
          },
          "metadata": {
            "tags": []
          },
          "execution_count": 29
        }
      ]
    },
    {
      "cell_type": "code",
      "metadata": {
        "colab": {
          "base_uri": "https://localhost:8080/"
        },
        "id": "g1qFfle2JUpR",
        "outputId": "946c8f7e-9101-4c9f-dc41-dc68f4eb01d1"
      },
      "source": [
        "1/4 +1/8 + 1/32"
      ],
      "execution_count": null,
      "outputs": [
        {
          "output_type": "execute_result",
          "data": {
            "text/plain": [
              "0.40625"
            ]
          },
          "metadata": {
            "tags": []
          },
          "execution_count": 30
        }
      ]
    },
    {
      "cell_type": "code",
      "metadata": {
        "colab": {
          "base_uri": "https://localhost:8080/"
        },
        "id": "2yNJ1Ft_Jd-N",
        "outputId": "14d575f2-5b80-4941-c9b3-7c7c03ed1cfa"
      },
      "source": [
        "0.40626"
      ],
      "execution_count": null,
      "outputs": [
        {
          "output_type": "execute_result",
          "data": {
            "text/plain": [
              "0.40626"
            ]
          },
          "metadata": {
            "tags": []
          },
          "execution_count": 31
        }
      ]
    },
    {
      "cell_type": "code",
      "metadata": {
        "colab": {
          "base_uri": "https://localhost:8080/"
        },
        "id": "LON3CwGNOccx",
        "outputId": "d7517bec-896c-4646-f22c-1fd4ed7042bf"
      },
      "source": [
        "1 + 1e-10"
      ],
      "execution_count": null,
      "outputs": [
        {
          "output_type": "execute_result",
          "data": {
            "text/plain": [
              "1.0000000001"
            ]
          },
          "metadata": {
            "tags": []
          },
          "execution_count": 32
        }
      ]
    },
    {
      "cell_type": "code",
      "metadata": {
        "colab": {
          "base_uri": "https://localhost:8080/"
        },
        "id": "vLNgLfxROirB",
        "outputId": "a2d8b621-4878-407b-a1a6-164a6f25a62d"
      },
      "source": [
        "1 + 1e-15"
      ],
      "execution_count": null,
      "outputs": [
        {
          "output_type": "execute_result",
          "data": {
            "text/plain": [
              "1.000000000000001"
            ]
          },
          "metadata": {
            "tags": []
          },
          "execution_count": 33
        }
      ]
    },
    {
      "cell_type": "code",
      "metadata": {
        "colab": {
          "base_uri": "https://localhost:8080/"
        },
        "id": "fnKHpdh5Oez-",
        "outputId": "1b66cf35-f005-4091-a756-6f0b2f77d115"
      },
      "source": [
        "1+ 1e-16"
      ],
      "execution_count": null,
      "outputs": [
        {
          "output_type": "execute_result",
          "data": {
            "text/plain": [
              "1.0"
            ]
          },
          "metadata": {
            "tags": []
          },
          "execution_count": 34
        }
      ]
    },
    {
      "cell_type": "code",
      "metadata": {
        "colab": {
          "base_uri": "https://localhost:8080/"
        },
        "id": "U2wOjQdQVkFL",
        "outputId": "af76ec5a-7844-4c79-b0d7-40c9b1fda8c2"
      },
      "source": [
        "print( float.hex(1.0))\r\n",
        "print( float.hex(1.0 + 1e-10))\r\n",
        "print( float.hex(1.0 + 1e-15))\r\n",
        "print( float.hex(1.0 + 1e-16))"
      ],
      "execution_count": null,
      "outputs": [
        {
          "output_type": "stream",
          "text": [
            "0x1.0000000000000p+0\n",
            "0x1.000000006df38p+0\n",
            "0x1.0000000000005p+0\n",
            "0x1.0000000000000p+0\n"
          ],
          "name": "stdout"
        }
      ]
    },
    {
      "cell_type": "code",
      "metadata": {
        "colab": {
          "base_uri": "https://localhost:8080/"
        },
        "id": "LvHOFJc-VWtg",
        "outputId": "d59680a6-bfdc-497f-c87c-7ea853672422"
      },
      "source": [
        "print( float.hex(2.6+0.6) )\r\n",
        "print( float.hex(2.6+0.2+0.2+0.2) )"
      ],
      "execution_count": null,
      "outputs": [
        {
          "output_type": "stream",
          "text": [
            "0x1.999999999999ap+1\n",
            "0x1.999999999999bp+1\n"
          ],
          "name": "stdout"
        }
      ]
    },
    {
      "cell_type": "code",
      "metadata": {
        "colab": {
          "base_uri": "https://localhost:8080/"
        },
        "id": "ZDXe0S1pp3YH",
        "outputId": "13e425a7-4a89-456a-d533-d3cfb1f97e92"
      },
      "source": [
        "(2**0.5)**2"
      ],
      "execution_count": null,
      "outputs": [
        {
          "output_type": "execute_result",
          "data": {
            "text/plain": [
              "2.0000000000000004"
            ]
          },
          "metadata": {
            "tags": []
          },
          "execution_count": 37
        }
      ]
    },
    {
      "cell_type": "code",
      "metadata": {
        "colab": {
          "base_uri": "https://localhost:8080/"
        },
        "id": "njbANhftPA6w",
        "outputId": "c97a781f-d1c5-4f76-a434-4b6a15c0e1f4"
      },
      "source": [
        "(2**0.5)  * (2**0.5) - 2"
      ],
      "execution_count": null,
      "outputs": [
        {
          "output_type": "execute_result",
          "data": {
            "text/plain": [
              "4.440892098500626e-16"
            ]
          },
          "metadata": {
            "tags": []
          },
          "execution_count": 38
        }
      ]
    },
    {
      "cell_type": "code",
      "metadata": {
        "colab": {
          "base_uri": "https://localhost:8080/"
        },
        "id": "f3eOV-PgV9JX",
        "outputId": "adfae359-ac0f-41b1-a03e-e54d034d4dac"
      },
      "source": [
        "print( float.hex((2**0.5)  * (2**0.5)) )\r\n",
        "print( float.hex(2.0) )"
      ],
      "execution_count": null,
      "outputs": [
        {
          "output_type": "stream",
          "text": [
            "0x1.0000000000001p+1\n",
            "0x1.0000000000000p+1\n"
          ],
          "name": "stdout"
        }
      ]
    },
    {
      "cell_type": "code",
      "metadata": {
        "colab": {
          "base_uri": "https://localhost:8080/"
        },
        "id": "Kbm3tbhgrPKg",
        "outputId": "f8a74c59-d0f0-41e7-bc1c-d61add0ce6f0"
      },
      "source": [
        "0x4B7"
      ],
      "execution_count": null,
      "outputs": [
        {
          "output_type": "execute_result",
          "data": {
            "text/plain": [
              "1207"
            ]
          },
          "metadata": {
            "tags": []
          },
          "execution_count": 40
        }
      ]
    },
    {
      "cell_type": "code",
      "metadata": {
        "colab": {
          "base_uri": "https://localhost:8080/"
        },
        "id": "kj6_kUU3rU0w",
        "outputId": "31ca9e62-b294-4354-bd18-b4a306387b29"
      },
      "source": [
        "1/4 + 1/16"
      ],
      "execution_count": null,
      "outputs": [
        {
          "output_type": "execute_result",
          "data": {
            "text/plain": [
              "0.3125"
            ]
          },
          "metadata": {
            "tags": []
          },
          "execution_count": 41
        }
      ]
    },
    {
      "cell_type": "code",
      "metadata": {
        "colab": {
          "base_uri": "https://localhost:8080/",
          "height": 36
        },
        "id": "gjj-dIq8r0jf",
        "outputId": "57787449-75b0-474f-b212-8884dd2d0462"
      },
      "source": [
        "float.hex(0.3125)"
      ],
      "execution_count": null,
      "outputs": [
        {
          "output_type": "execute_result",
          "data": {
            "application/vnd.google.colaboratory.intrinsic+json": {
              "type": "string"
            },
            "text/plain": [
              "'0x1.4000000000000p-2'"
            ]
          },
          "metadata": {
            "tags": []
          },
          "execution_count": 42
        }
      ]
    },
    {
      "cell_type": "code",
      "metadata": {
        "colab": {
          "base_uri": "https://localhost:8080/",
          "height": 36
        },
        "id": "AHWwC8lrr5zW",
        "outputId": "361ca9ef-9239-4668-e401-26fab2a0aa53"
      },
      "source": [
        "float.hex(1.75)"
      ],
      "execution_count": null,
      "outputs": [
        {
          "output_type": "execute_result",
          "data": {
            "application/vnd.google.colaboratory.intrinsic+json": {
              "type": "string"
            },
            "text/plain": [
              "'0x1.c000000000000p+0'"
            ]
          },
          "metadata": {
            "tags": []
          },
          "execution_count": 43
        }
      ]
    },
    {
      "cell_type": "code",
      "metadata": {
        "colab": {
          "base_uri": "https://localhost:8080/"
        },
        "id": "el08vjCbv7QK",
        "outputId": "2dc9a893-ec3e-4362-920e-c80b8fb87c73"
      },
      "source": [
        "2**-52"
      ],
      "execution_count": null,
      "outputs": [
        {
          "output_type": "execute_result",
          "data": {
            "text/plain": [
              "2.220446049250313e-16"
            ]
          },
          "metadata": {
            "tags": []
          },
          "execution_count": 44
        }
      ]
    },
    {
      "cell_type": "code",
      "metadata": {
        "colab": {
          "base_uri": "https://localhost:8080/"
        },
        "id": "y5-kj8Pp9ofd",
        "outputId": "482b0505-bacf-4bee-d347-e0288897d4d2"
      },
      "source": [
        "import numpy as np\r\n",
        "np.finfo(float).eps"
      ],
      "execution_count": null,
      "outputs": [
        {
          "output_type": "execute_result",
          "data": {
            "text/plain": [
              "2.220446049250313e-16"
            ]
          },
          "metadata": {
            "tags": []
          },
          "execution_count": 45
        }
      ]
    },
    {
      "cell_type": "code",
      "metadata": {
        "colab": {
          "base_uri": "https://localhost:8080/"
        },
        "id": "6O8Df9Nh9a2k",
        "outputId": "ec0a3c0b-5b88-42a6-e14d-186cbd8cf9a6"
      },
      "source": [
        "np.finfo(float)"
      ],
      "execution_count": null,
      "outputs": [
        {
          "output_type": "execute_result",
          "data": {
            "text/plain": [
              "finfo(resolution=1e-15, min=-1.7976931348623157e+308, max=1.7976931348623157e+308, dtype=float64)"
            ]
          },
          "metadata": {
            "tags": []
          },
          "execution_count": 46
        }
      ]
    },
    {
      "cell_type": "markdown",
      "metadata": {
        "id": "bAfZWGhDX7Yl"
      },
      "source": [
        "# BONUS FEATURES"
      ]
    },
    {
      "cell_type": "code",
      "metadata": {
        "colab": {
          "base_uri": "https://localhost:8080/"
        },
        "id": "vziYlEleX-V2",
        "outputId": "c143a3e9-5f46-4bd9-8ebd-bf3a6c12573e"
      },
      "source": [
        "# Sum up vs sum down\r\n",
        "N = 1000\r\n",
        "sumup = 0\r\n",
        "for i in range(1,N):   # make sure to skip zero!\r\n",
        "  sumup+=1/i\r\n",
        "\r\n",
        "sumdown = 0\r\n",
        "for i in range(N-1,0,-1):  # counts down from N-1 to 1 \r\n",
        "  sumdown +=1/i\r\n",
        "\r\n",
        "print(sumup)\r\n",
        "print(sumdown)\r\n",
        "print(sumup-sumdown)"
      ],
      "execution_count": null,
      "outputs": [
        {
          "output_type": "stream",
          "text": [
            "7.484470860550343\n",
            "7.484470860550341\n",
            "1.7763568394002505e-15\n"
          ],
          "name": "stdout"
        }
      ]
    },
    {
      "cell_type": "markdown",
      "metadata": {
        "id": "TdClX8jGcoUg"
      },
      "source": [
        "# DELETE STUFF BELOW HERE"
      ]
    },
    {
      "cell_type": "code",
      "metadata": {
        "colab": {
          "base_uri": "https://localhost:8080/"
        },
        "id": "mBuyD0edb5OE",
        "outputId": "c7e169f6-e34b-4798-80b3-19a2fdeb8aa1"
      },
      "source": [
        "c = np.array([(1),(2)])\r\n",
        "c.transpose().shape"
      ],
      "execution_count": null,
      "outputs": [
        {
          "output_type": "execute_result",
          "data": {
            "text/plain": [
              "(2,)"
            ]
          },
          "metadata": {
            "tags": []
          },
          "execution_count": 52
        }
      ]
    },
    {
      "cell_type": "code",
      "metadata": {
        "colab": {
          "base_uri": "https://localhost:8080/"
        },
        "id": "wYYvGAW5cUJo",
        "outputId": "785613a2-4e2c-49f1-a8f1-6256e59dce95"
      },
      "source": [
        "print(c, c.T)"
      ],
      "execution_count": null,
      "outputs": [
        {
          "output_type": "stream",
          "text": [
            "[1 2] [1 2]\n"
          ],
          "name": "stdout"
        }
      ]
    },
    {
      "cell_type": "code",
      "metadata": {
        "colab": {
          "base_uri": "https://localhost:8080/"
        },
        "id": "YuIGAT_tcdiI",
        "outputId": "1dc08ed6-78b9-4e25-833c-250c58adea9d"
      },
      "source": [
        "np.array([1,2,3]).T"
      ],
      "execution_count": null,
      "outputs": [
        {
          "output_type": "execute_result",
          "data": {
            "text/plain": [
              "array([1, 2, 3])"
            ]
          },
          "metadata": {
            "tags": []
          },
          "execution_count": 58
        }
      ]
    },
    {
      "cell_type": "code",
      "metadata": {
        "colab": {
          "base_uri": "https://localhost:8080/"
        },
        "id": "3TTq-jtEckYK",
        "outputId": "d6c07178-6a81-4f86-8562-340689185576"
      },
      "source": [
        "arr = np.array([[1, 2, 3]]).T\r\n",
        "\r\n",
        "print(arr)"
      ],
      "execution_count": null,
      "outputs": [
        {
          "output_type": "stream",
          "text": [
            "[[1]\n",
            " [2]\n",
            " [3]]\n"
          ],
          "name": "stdout"
        }
      ]
    },
    {
      "cell_type": "code",
      "metadata": {
        "colab": {
          "base_uri": "https://localhost:8080/"
        },
        "id": "x0ka623Ac4wG",
        "outputId": "d3174cd0-e40c-4a3f-9b1e-e069254b21b7"
      },
      "source": [
        "c.reshape(1,2)"
      ],
      "execution_count": null,
      "outputs": [
        {
          "output_type": "execute_result",
          "data": {
            "text/plain": [
              "array([[1, 2]])"
            ]
          },
          "metadata": {
            "tags": []
          },
          "execution_count": 62
        }
      ]
    },
    {
      "cell_type": "code",
      "metadata": {
        "colab": {
          "base_uri": "https://localhost:8080/"
        },
        "id": "8FhQFtJ7dr_v",
        "outputId": "c999d5e0-24e0-4555-df16-2bebdc41018c"
      },
      "source": [
        "r = np.array([[1,2]])\r\n",
        "c = np.array([[3],[4] ])\r\n",
        "print(r, r.shape)\r\n",
        "print()\r\n",
        "print(c, c.shape)"
      ],
      "execution_count": null,
      "outputs": [
        {
          "output_type": "stream",
          "text": [
            "[[1 2]] (1, 2)\n",
            "\n",
            "[[3]\n",
            " [4]] (2, 1)\n"
          ],
          "name": "stdout"
        }
      ]
    },
    {
      "cell_type": "code",
      "metadata": {
        "colab": {
          "base_uri": "https://localhost:8080/"
        },
        "id": "Ryxdh0JXeGJr",
        "outputId": "8162ee55-2c2a-41c1-c3dc-e72be1fdf6b0"
      },
      "source": [
        "# lazier way of column vectors:\r\n",
        "c1 = np.array([[3,4]]).T    # STILL NEED TWO SETS OF [] FOR 2 DIMENSIOS\r\n",
        "c2 = np.array([3,4]).reshape(2,1)  # Make a 1D, reshape it into 2D\r\n",
        "print(c1)\r\n",
        "print(c2)"
      ],
      "execution_count": null,
      "outputs": [
        {
          "output_type": "stream",
          "text": [
            "[[3]\n",
            " [4]]\n",
            "[[3]\n",
            " [4]]\n"
          ],
          "name": "stdout"
        }
      ]
    },
    {
      "cell_type": "code",
      "metadata": {
        "colab": {
          "base_uri": "https://localhost:8080/"
        },
        "id": "DC96YXkHfifX",
        "outputId": "c0f5ff0c-9857-42f4-90d3-fb02e6f94fd3"
      },
      "source": [
        "# In general using * gives element-wise multiplication (with \"broadcasting...\") \r\n",
        "print(r*r)\r\n",
        "print(r*c)\r\n",
        "print(c*r)\r\n",
        "print(c*c)"
      ],
      "execution_count": null,
      "outputs": [
        {
          "output_type": "stream",
          "text": [
            "[[1 4]]\n",
            "[[3 6]\n",
            " [4 8]]\n",
            "[[3 6]\n",
            " [4 8]]\n",
            "[[ 9]\n",
            " [16]]\n"
          ],
          "name": "stdout"
        }
      ]
    },
    {
      "cell_type": "code",
      "metadata": {
        "colab": {
          "base_uri": "https://localhost:8080/"
        },
        "id": "9mQJkOBSgckH",
        "outputId": "f0068cd7-287e-4257-b61a-dbc01e88214f"
      },
      "source": [
        "# Use np.dot or np.matmul for actual matrix multiplication\r\n",
        "print(np.dot(r,c))\r\n",
        "print(np.dot(c,r))\r\n",
        "# r.r and c.c give errors"
      ],
      "execution_count": null,
      "outputs": [
        {
          "output_type": "stream",
          "text": [
            "[[11]]\n",
            "[[3 6]\n",
            " [4 8]]\n"
          ],
          "name": "stdout"
        }
      ]
    },
    {
      "cell_type": "code",
      "metadata": {
        "colab": {
          "base_uri": "https://localhost:8080/"
        },
        "id": "Pkr5QNtIgdlC",
        "outputId": "94f47604-42c7-42bc-e1e9-8b2c088d6d48"
      },
      "source": [
        "c*r"
      ],
      "execution_count": null,
      "outputs": [
        {
          "output_type": "execute_result",
          "data": {
            "text/plain": [
              "array([[3, 6],\n",
              "       [4, 8]])"
            ]
          },
          "metadata": {
            "tags": []
          },
          "execution_count": 85
        }
      ]
    },
    {
      "cell_type": "code",
      "metadata": {
        "colab": {
          "base_uri": "https://localhost:8080/"
        },
        "id": "s6o1M8yYgejZ",
        "outputId": "f9a82649-21d9-48eb-ba94-4cc3ccc4442b"
      },
      "source": [
        "c*c"
      ],
      "execution_count": null,
      "outputs": [
        {
          "output_type": "execute_result",
          "data": {
            "text/plain": [
              "array([[ 9],\n",
              "       [16]])"
            ]
          },
          "metadata": {
            "tags": []
          },
          "execution_count": 86
        }
      ]
    },
    {
      "cell_type": "code",
      "metadata": {
        "colab": {
          "base_uri": "https://localhost:8080/",
          "height": 209
        },
        "id": "ChPrRjQ7gids",
        "outputId": "67011243-dcbe-4bcd-f274-3b49437ebfb0"
      },
      "source": [
        "np.dot(r,r)"
      ],
      "execution_count": null,
      "outputs": [
        {
          "output_type": "error",
          "ename": "ValueError",
          "evalue": "ignored",
          "traceback": [
            "\u001b[0;31m---------------------------------------------------------------------------\u001b[0m",
            "\u001b[0;31mValueError\u001b[0m                                Traceback (most recent call last)",
            "\u001b[0;32m<ipython-input-89-c5b8d5614048>\u001b[0m in \u001b[0;36m<module>\u001b[0;34m()\u001b[0m\n\u001b[0;32m----> 1\u001b[0;31m \u001b[0mnp\u001b[0m\u001b[0;34m.\u001b[0m\u001b[0mdot\u001b[0m\u001b[0;34m(\u001b[0m\u001b[0mr\u001b[0m\u001b[0;34m,\u001b[0m\u001b[0mr\u001b[0m\u001b[0;34m)\u001b[0m\u001b[0;34m\u001b[0m\u001b[0;34m\u001b[0m\u001b[0m\n\u001b[0m",
            "\u001b[0;32m<__array_function__ internals>\u001b[0m in \u001b[0;36mdot\u001b[0;34m(*args, **kwargs)\u001b[0m\n",
            "\u001b[0;31mValueError\u001b[0m: shapes (1,2) and (1,2) not aligned: 2 (dim 1) != 1 (dim 0)"
          ]
        }
      ]
    }
  ]
}