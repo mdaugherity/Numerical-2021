{
  "nbformat": 4,
  "nbformat_minor": 0,
  "metadata": {
    "colab": {
      "name": "PHYS 451 - Class 1-13-21.ipynb",
      "provenance": [],
      "collapsed_sections": [],
      "toc_visible": true,
      "authorship_tag": "ABX9TyP3PYSC3muoIAOXAK8W61GC",
      "include_colab_link": true
    },
    "kernelspec": {
      "name": "python3",
      "display_name": "Python 3"
    }
  },
  "cells": [
    {
      "cell_type": "markdown",
      "metadata": {
        "id": "view-in-github",
        "colab_type": "text"
      },
      "source": [
        "<a href=\"https://colab.research.google.com/github/mdaugherity/Numerical-2021/blob/main/PHYS_451_Class_1_13_21.ipynb\" target=\"_parent\"><img src=\"https://colab.research.google.com/assets/colab-badge.svg\" alt=\"Open In Colab\"/></a>"
      ]
    },
    {
      "cell_type": "markdown",
      "metadata": {
        "id": "Iw5wDFeGn91W"
      },
      "source": [
        "# INTRO TO PYTHON AND GOOGLE COLAB\r\n",
        "PHYS 451, Spring 2021, Dr. Daugherity"
      ]
    },
    {
      "cell_type": "markdown",
      "metadata": {
        "id": "Z1BW3v6DLk3h"
      },
      "source": [
        "Words show up as normal\r\n",
        "\r\n",
        "# New Section\r\n",
        "\r\n",
        "## Subsection\r\n",
        "\r\n",
        "### Subsubsection\r\n",
        "\r\n",
        "Bold words are in **two asterisks**\r\n",
        "\r\n",
        "Italic words are in *one asterisk*\r\n",
        "\r\n",
        "Code looks like \r\n",
        "\r\n",
        "```\r\n",
        "# This is formatted as code\r\n",
        "```\r\n",
        "\r\n",
        "Links are [Google](https://www.google.com)\r\n"
      ]
    },
    {
      "cell_type": "code",
      "metadata": {
        "id": "EYzsaa4zLVki"
      },
      "source": [
        "# comments look like this - example python stuff\r\n",
        "\r\n",
        "# duck typing - no need to declare variables\r\n",
        "x = 42\r\n",
        "x = 1.2323\r\n",
        "x = 'asdf'"
      ],
      "execution_count": null,
      "outputs": []
    },
    {
      "cell_type": "code",
      "metadata": {
        "colab": {
          "base_uri": "https://localhost:8080/",
          "height": 35
        },
        "id": "SdALgV_WNTLF",
        "outputId": "9b83653b-7b42-4c8b-e1f6-fdf62c02ef85"
      },
      "source": [
        "# output\r\n",
        "x  # the lazy way"
      ],
      "execution_count": null,
      "outputs": [
        {
          "output_type": "execute_result",
          "data": {
            "application/vnd.google.colaboratory.intrinsic+json": {
              "type": "string"
            },
            "text/plain": [
              "'asdf'"
            ]
          },
          "metadata": {
            "tags": []
          },
          "execution_count": 2
        }
      ]
    },
    {
      "cell_type": "code",
      "metadata": {
        "colab": {
          "base_uri": "https://localhost:8080/"
        },
        "id": "1a_PAt_TNqCj",
        "outputId": "94758b57-1dbb-4930-ec66-013c26d3b65b"
      },
      "source": [
        "x = 42\r\n",
        "y = 6.02e23\r\n",
        "print(x)\r\n",
        "print(x,y)   # work, but is UGLY\r\n",
        "\r\n",
        "\r\n",
        "print(3**2)  # 3^2\r\n",
        "print(2**0.5) # sqrt of 2\r\n",
        "\r\n",
        "# Easy but ugly way to print: use print(a,b,c,d,...)\r\n",
        "print('The sqrt of 2 is',2**0.5) # sqrt of 2"
      ],
      "execution_count": null,
      "outputs": [
        {
          "output_type": "stream",
          "text": [
            "42\n",
            "42 6.02e+23\n",
            "9\n",
            "1.4142135623730951\n",
            "The sqrt of 2 is 1.4142135623730951\n"
          ],
          "name": "stdout"
        }
      ]
    },
    {
      "cell_type": "code",
      "metadata": {
        "colab": {
          "base_uri": "https://localhost:8080/"
        },
        "id": "FQ4K_9X6YCGC",
        "outputId": "a78d39a6-dd3f-4003-eec9-6ccca35de207"
      },
      "source": [
        "# How to control the output\r\n",
        "p = 3.1416\r\n",
        "print(f\"The value of pi is {p}\")\r\n",
        "print(f\"The value of pi is {p:5.3f}\")  # width of 5, 3 decimals, float\r\n",
        "print(f\"The value of pi is {p:1.0f}\")  # no decimals\r\n",
        "print(f\"The value of pi is {p:5.2e}\")     # scientific\r\n",
        "print(f\"The value of pi is {123864129387641239:,}\")  # commas, wow!\r\n",
        "x=1\r\n",
        "y=2\r\n",
        "z=123\r\n",
        "print(f\"{x}\\t{y}\\t{z}\")  # make nice columns"
      ],
      "execution_count": null,
      "outputs": [
        {
          "output_type": "stream",
          "text": [
            "The value of pi is 3.1416\n",
            "The value of pi is 3.142\n",
            "The value of pi is 3\n",
            "The value of pi is 3.14e+00\n",
            "The value of pi is 123,864,129,387,641,239\n",
            "1\t2\t123\n"
          ],
          "name": "stdout"
        }
      ]
    },
    {
      "cell_type": "markdown",
      "metadata": {
        "id": "Rn1Gr4JFajTQ"
      },
      "source": [
        "# Python Cheat Sheet"
      ]
    },
    {
      "cell_type": "markdown",
      "metadata": {
        "id": "EosBFx50asKW"
      },
      "source": [
        "## Logic"
      ]
    },
    {
      "cell_type": "code",
      "metadata": {
        "colab": {
          "base_uri": "https://localhost:8080/"
        },
        "id": "eeXLc08Oap2m",
        "outputId": "20cff1af-8409-49dd-96e5-63c91792efdb"
      },
      "source": [
        "x=1\r\n",
        "if x>0:\r\n",
        "  print('positive')\r\n",
        "elif x<0:\r\n",
        "  print('negative')\r\n",
        "else:\r\n",
        "  print('zero')"
      ],
      "execution_count": null,
      "outputs": [
        {
          "output_type": "stream",
          "text": [
            "positive\n"
          ],
          "name": "stdout"
        }
      ]
    },
    {
      "cell_type": "code",
      "metadata": {
        "id": "aaCuT5tAb0JI"
      },
      "source": [
        "if x==0:\r\n",
        "  print('zero')"
      ],
      "execution_count": null,
      "outputs": []
    },
    {
      "cell_type": "markdown",
      "metadata": {
        "id": "5SEHARYScR2_"
      },
      "source": [
        "## LOOPS"
      ]
    },
    {
      "cell_type": "code",
      "metadata": {
        "colab": {
          "base_uri": "https://localhost:8080/"
        },
        "id": "8tQ7qyB8cVkc",
        "outputId": "9399cee9-b418-4a62-ff53-c3656c4075c9"
      },
      "source": [
        "# while loop\r\n",
        "i=0\r\n",
        "while i<5:\r\n",
        "  i+=1\r\n",
        "  print(i)"
      ],
      "execution_count": null,
      "outputs": [
        {
          "output_type": "stream",
          "text": [
            "1\n",
            "2\n",
            "3\n",
            "4\n",
            "5\n"
          ],
          "name": "stdout"
        }
      ]
    },
    {
      "cell_type": "code",
      "metadata": {
        "colab": {
          "base_uri": "https://localhost:8080/"
        },
        "id": "Zy6BjSvacwd1",
        "outputId": "2508a0dd-30b8-461d-d7b1-210689fd92d1"
      },
      "source": [
        "# for loop - ONLY WORKS ON LISTS OF THINGS!!!!!!\r\n",
        "for i in [0,1,7,'red']:\r\n",
        "  print(i)"
      ],
      "execution_count": null,
      "outputs": [
        {
          "output_type": "stream",
          "text": [
            "0\n",
            "1\n",
            "7\n",
            "red\n"
          ],
          "name": "stdout"
        }
      ]
    },
    {
      "cell_type": "code",
      "metadata": {
        "colab": {
          "base_uri": "https://localhost:8080/"
        },
        "id": "tKMcGbtidGxk",
        "outputId": "6df56cad-d110-4eb3-8c9c-34e7ada08c26"
      },
      "source": [
        "for i in range(4):  # WARNING: starts at 0, does not include 4\r\n",
        "  print(i)"
      ],
      "execution_count": null,
      "outputs": [
        {
          "output_type": "stream",
          "text": [
            "0\n",
            "1\n",
            "2\n",
            "3\n"
          ],
          "name": "stdout"
        }
      ]
    },
    {
      "cell_type": "markdown",
      "metadata": {
        "id": "Zhsj9ySxdhGE"
      },
      "source": [
        "# ARRAYS"
      ]
    },
    {
      "cell_type": "code",
      "metadata": {
        "id": "ATkS8mpXdjjc"
      },
      "source": [
        "import numpy as np"
      ],
      "execution_count": null,
      "outputs": []
    },
    {
      "cell_type": "code",
      "metadata": {
        "colab": {
          "base_uri": "https://localhost:8080/"
        },
        "id": "1B4jfXcreJpL",
        "outputId": "ee7253fc-16e2-41cb-8d95-970a44b454d5"
      },
      "source": [
        "# HOW TO CREATE ARRAYS\r\n",
        "# you MUST declare before using!!!!\r\n",
        "x = np.array([1,3,2,-5])\r\n",
        "print(x)\r\n",
        "y = np.array( [(1,2,3),(4,5,6) ] )\r\n",
        "print(y)\r\n",
        "\r\n",
        "x = np.zeros(5) \r\n",
        "print(x)\r\n",
        "x = np.zeros((3,2)) \r\n",
        "print(x)\r\n",
        "\r\n",
        "# SUUUUPER USEFUL FOR MAKING PLOTS\r\n",
        "x = np.linspace(0,5,num=10)\r\n",
        "print(x)\r\n",
        "\r\n",
        "# SUUUUPER USEFUL FOR LOOPS\r\n",
        "x =np.arange(4)\r\n",
        "print(x)"
      ],
      "execution_count": null,
      "outputs": [
        {
          "output_type": "stream",
          "text": [
            "[ 1  3  2 -5]\n",
            "[[10 20 30]\n",
            " [40 50 60]]\n",
            "[0. 0. 0. 0. 0.]\n",
            "[[0. 0.]\n",
            " [0. 0.]\n",
            " [0. 0.]]\n",
            "[0.         0.55555556 1.11111111 1.66666667 2.22222222 2.77777778\n",
            " 3.33333333 3.88888889 4.44444444 5.        ]\n",
            "[0 1 2 3]\n"
          ],
          "name": "stdout"
        }
      ]
    },
    {
      "cell_type": "markdown",
      "metadata": {
        "id": "fQI53MOfgeam"
      },
      "source": [
        "## INDEXING"
      ]
    },
    {
      "cell_type": "code",
      "metadata": {
        "colab": {
          "base_uri": "https://localhost:8080/"
        },
        "id": "NjPw0-j8gd2-",
        "outputId": "a0217487-4cbe-45e5-fb8f-b9f3ea5958cf"
      },
      "source": [
        "x = np.arange(1,6)\r\n",
        "print(x)"
      ],
      "execution_count": null,
      "outputs": [
        {
          "output_type": "stream",
          "text": [
            "[1 2 3 4 5]\n"
          ],
          "name": "stdout"
        }
      ]
    },
    {
      "cell_type": "code",
      "metadata": {
        "colab": {
          "base_uri": "https://localhost:8080/"
        },
        "id": "c15uUBOegqRW",
        "outputId": "2ec7d738-3016-4062-f7e1-2fb742724f22"
      },
      "source": [
        "x[3]"
      ],
      "execution_count": null,
      "outputs": [
        {
          "output_type": "execute_result",
          "data": {
            "text/plain": [
              "4"
            ]
          },
          "metadata": {
            "tags": []
          },
          "execution_count": 58
        }
      ]
    },
    {
      "cell_type": "code",
      "metadata": {
        "colab": {
          "base_uri": "https://localhost:8080/"
        },
        "id": "tFGYUkAlgzUW",
        "outputId": "0bdc2706-b18a-4720-c2db-35710ea18017"
      },
      "source": [
        "for i in range(5):\r\n",
        "  print( x[i])"
      ],
      "execution_count": null,
      "outputs": [
        {
          "output_type": "stream",
          "text": [
            "1\n",
            "2\n",
            "3\n",
            "4\n",
            "5\n"
          ],
          "name": "stdout"
        }
      ]
    },
    {
      "cell_type": "code",
      "metadata": {
        "colab": {
          "base_uri": "https://localhost:8080/"
        },
        "id": "zcSKOf9kg78O",
        "outputId": "e431bde1-79b8-4440-ee27-75565f7210a6"
      },
      "source": [
        "y = np.array([(1,2,3),(4,5,6)])\r\n",
        "print(y)"
      ],
      "execution_count": null,
      "outputs": [
        {
          "output_type": "stream",
          "text": [
            "[[1 2 3]\n",
            " [4 5 6]]\n"
          ],
          "name": "stdout"
        }
      ]
    },
    {
      "cell_type": "code",
      "metadata": {
        "colab": {
          "base_uri": "https://localhost:8080/"
        },
        "id": "n0PMB-HfhGJW",
        "outputId": "95119105-4d14-4944-d63d-f163a3aae731"
      },
      "source": [
        "y[1]"
      ],
      "execution_count": null,
      "outputs": [
        {
          "output_type": "execute_result",
          "data": {
            "text/plain": [
              "array([4, 5, 6])"
            ]
          },
          "metadata": {
            "tags": []
          },
          "execution_count": 63
        }
      ]
    },
    {
      "cell_type": "code",
      "metadata": {
        "colab": {
          "base_uri": "https://localhost:8080/"
        },
        "id": "cothjZbHhNw-",
        "outputId": "2624cec2-ea13-49d8-fef7-0d1b82080dae"
      },
      "source": [
        "y[1][0]"
      ],
      "execution_count": null,
      "outputs": [
        {
          "output_type": "execute_result",
          "data": {
            "text/plain": [
              "4"
            ]
          },
          "metadata": {
            "tags": []
          },
          "execution_count": 64
        }
      ]
    },
    {
      "cell_type": "code",
      "metadata": {
        "id": "n0M2RhjahSnO"
      },
      "source": [
        "# fun tricks"
      ],
      "execution_count": null,
      "outputs": []
    },
    {
      "cell_type": "code",
      "metadata": {
        "colab": {
          "base_uri": "https://localhost:8080/"
        },
        "id": "S10BExfEhaze",
        "outputId": "8801267b-0b6c-4894-f18b-b685f2021787"
      },
      "source": [
        "x[-1]  # last element"
      ],
      "execution_count": null,
      "outputs": [
        {
          "output_type": "execute_result",
          "data": {
            "text/plain": [
              "5"
            ]
          },
          "metadata": {
            "tags": []
          },
          "execution_count": 65
        }
      ]
    },
    {
      "cell_type": "code",
      "metadata": {
        "colab": {
          "base_uri": "https://localhost:8080/"
        },
        "id": "lVP3ljORhgou",
        "outputId": "b5f39dc4-9aae-456a-b33e-2c32e53e3e66"
      },
      "source": [
        "print(x)\r\n",
        "x[1:3]\r\n"
      ],
      "execution_count": null,
      "outputs": [
        {
          "output_type": "stream",
          "text": [
            "[1 2 3 4 5]\n"
          ],
          "name": "stdout"
        },
        {
          "output_type": "execute_result",
          "data": {
            "text/plain": [
              "array([2, 3])"
            ]
          },
          "metadata": {
            "tags": []
          },
          "execution_count": 67
        }
      ]
    },
    {
      "cell_type": "code",
      "metadata": {
        "colab": {
          "base_uri": "https://localhost:8080/"
        },
        "id": "KKpL8xJ8hwjn",
        "outputId": "7c12f61e-b032-4387-dcc3-f47e7e03305f"
      },
      "source": [
        "x[:3]   # first 3 elements"
      ],
      "execution_count": null,
      "outputs": [
        {
          "output_type": "execute_result",
          "data": {
            "text/plain": [
              "array([1, 2, 3])"
            ]
          },
          "metadata": {
            "tags": []
          },
          "execution_count": 68
        }
      ]
    },
    {
      "cell_type": "code",
      "metadata": {
        "colab": {
          "base_uri": "https://localhost:8080/"
        },
        "id": "f2RCcPbrh20R",
        "outputId": "ec9e813f-81ca-436d-ea9e-d5bee16708ef"
      },
      "source": [
        "x[3:]   # element 3 to the end"
      ],
      "execution_count": null,
      "outputs": [
        {
          "output_type": "execute_result",
          "data": {
            "text/plain": [
              "array([4, 5])"
            ]
          },
          "metadata": {
            "tags": []
          },
          "execution_count": 69
        }
      ]
    },
    {
      "cell_type": "code",
      "metadata": {
        "colab": {
          "base_uri": "https://localhost:8080/"
        },
        "id": "8-33hRaUiERt",
        "outputId": "de1f244a-2303-49fc-b6e8-4deb23d61a85"
      },
      "source": [
        "x[-3:]"
      ],
      "execution_count": null,
      "outputs": [
        {
          "output_type": "execute_result",
          "data": {
            "text/plain": [
              "array([3, 4, 5])"
            ]
          },
          "metadata": {
            "tags": []
          },
          "execution_count": 70
        }
      ]
    },
    {
      "cell_type": "code",
      "metadata": {
        "colab": {
          "base_uri": "https://localhost:8080/"
        },
        "id": "DBj8nxBSiNDm",
        "outputId": "1820451e-a928-4fad-c0cf-4d45e9089907"
      },
      "source": [
        "# operations in numpy work on the ENTIRE array at once!\r\n",
        "print(x)\r\n",
        "print( np.cos(x) )\r\n",
        "print( np.exp(x) )\r\n"
      ],
      "execution_count": null,
      "outputs": [
        {
          "output_type": "stream",
          "text": [
            "[1 2 3 4 5]\n"
          ],
          "name": "stdout"
        },
        {
          "output_type": "execute_result",
          "data": {
            "text/plain": [
              "array([  2.71828183,   7.3890561 ,  20.08553692,  54.59815003,\n",
              "       148.4131591 ])"
            ]
          },
          "metadata": {
            "tags": []
          },
          "execution_count": 73
        }
      ]
    }
  ]
}