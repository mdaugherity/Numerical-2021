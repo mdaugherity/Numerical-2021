{
  "nbformat": 4,
  "nbformat_minor": 0,
  "metadata": {
    "colab": {
      "name": "Week 3 - Linear Algebra Fits.ipynb",
      "provenance": [],
      "collapsed_sections": [],
      "toc_visible": true,
      "authorship_tag": "ABX9TyP3OB3XBY0Z05ELebe4nqn/",
      "include_colab_link": true
    },
    "kernelspec": {
      "name": "python3",
      "display_name": "Python 3"
    }
  },
  "cells": [
    {
      "cell_type": "markdown",
      "metadata": {
        "id": "view-in-github",
        "colab_type": "text"
      },
      "source": [
        "<a href=\"https://colab.research.google.com/github/mdaugherity/Numerical-2021/blob/main/Week_3_Linear_Algebra_Fits.ipynb\" target=\"_parent\"><img src=\"https://colab.research.google.com/assets/colab-badge.svg\" alt=\"Open In Colab\"/></a>"
      ]
    },
    {
      "cell_type": "markdown",
      "metadata": {
        "id": "yf6XGAxsq4AW"
      },
      "source": [
        "# LINEAR ALGEBRA LEAST-SQUARES FITS\r\n",
        "\r\n",
        "A = augmented (nx2) matrix:  col[0]=$x_i$,  col[1]=1\r\n",
        "\r\n",
        "c = (2x1) matrix, 2 parameters [a,b]   for y=ax+b\r\n",
        "\r\n",
        "y = (nx1) matrix $y_i$\r\n",
        "\r\n",
        "\r\n",
        "Use $  (A^TA)c=A^Ty $ and solve for c\r\n",
        "\r\n",
        "Notes: \r\n",
        "* this CAN be extended to other polynomials\r\n",
        "* this is textbook equation (3.21) on page 131\r\n"
      ]
    },
    {
      "cell_type": "code",
      "metadata": {
        "id": "GpTxIq1_xrV_"
      },
      "source": [
        "import numpy as np\r\n",
        "import matplotlib.pyplot as plt"
      ],
      "execution_count": 1,
      "outputs": []
    },
    {
      "cell_type": "code",
      "metadata": {
        "colab": {
          "base_uri": "https://localhost:8080/",
          "height": 301
        },
        "id": "kJ32WnJyq7va",
        "outputId": "7f08121b-58ab-463a-ab32-c0e18b525ecc"
      },
      "source": [
        "# RIGHT ANSWER\r\n",
        "NUM = 10\r\n",
        "xdata = np.arange(0,NUM)\r\n",
        "m = -2\r\n",
        "b = 3\r\n",
        "ydata = -2*xdata + 3 + 0.5*np.random.randn(NUM)\r\n",
        "print('ACTUAL:\\t',m,b)\r\n",
        "p = np.polyfit(xdata,ydata,deg=1)\r\n",
        "print('POLYFIT\\t',p)\r\n",
        "xfit = np.linspace(0,NUM)\r\n",
        "yfit = np.polyval(p,xfit)\r\n",
        "\r\n",
        "plt.plot(xdata,ydata,'ks')\r\n",
        "plt.plot(xfit,yfit,'b-')\r\n",
        "\r\n",
        "plt.show()"
      ],
      "execution_count": 11,
      "outputs": [
        {
          "output_type": "stream",
          "text": [
            "ACTUAL:\t -2 3\n",
            "POLYFIT\t [-2.04764244  3.14908524]\n"
          ],
          "name": "stdout"
        },
        {
          "output_type": "display_data",
          "data": {
            "image/png": "[encoded data removed]",
            "text/plain": [
              "<Figure size 432x288 with 1 Axes>"
            ]
          },
          "metadata": {
            "tags": [],
            "needs_background": "light"
          }
        }
      ]
    },
    {
      "cell_type": "markdown",
      "metadata": {
        "id": "79iRcNEJcqiW"
      },
      "source": [
        "## LINEAR ALGEBRA VERSION\r\n",
        "Will give identical results to polyfit.\r\n",
        "\r\n",
        "NOTE: the *reshape(m,n)* command will change a matrix to have dimensions m by n.  Either m or n can be replaced by a -1 which means \"make this the appropriate size so my matrix has the right number of elements\".  \r\n",
        "\r\n",
        "* reshape(-1,1) creates an nx1 (column) matrix\r\n",
        "* reshape(1,-1) creats an 1xn (row) matrix"
      ]
    },
    {
      "cell_type": "code",
      "metadata": {
        "colab": {
          "base_uri": "https://localhost:8080/"
        },
        "id": "BXXHhbJOb9tj",
        "outputId": "edb5d650-d3fc-41b5-c35a-622e50fa0ca1"
      },
      "source": [
        "# LINEAR ALGEBRA VERSION\r\n",
        "\r\n",
        "# DEFINE MATRICES\r\n",
        "A = np.ones((NUM,2))  # A: first column is xdata, second column is 1's \r\n",
        "A[:,0] = xdata  \r\n",
        "print(A)\r\n",
        "\r\n",
        "y = ydata.reshape(-1,1) # y: (nx1) column matrix of ydata\r\n",
        "print(y)"
      ],
      "execution_count": 13,
      "outputs": [
        {
          "output_type": "stream",
          "text": [
            "[[0. 1.]\n",
            " [1. 1.]\n",
            " [2. 1.]\n",
            " [3. 1.]\n",
            " [4. 1.]\n",
            " [5. 1.]\n",
            " [6. 1.]\n",
            " [7. 1.]\n",
            " [8. 1.]\n",
            " [9. 1.]]\n",
            "[[  3.27281016]\n",
            " [  1.47459868]\n",
            " [ -1.25087644]\n",
            " [ -3.43989633]\n",
            " [ -5.33479614]\n",
            " [ -6.72887772]\n",
            " [ -9.18114343]\n",
            " [-10.93087296]\n",
            " [-12.87015645]\n",
            " [-15.66384654]]\n"
          ],
          "name": "stdout"
        }
      ]
    },
    {
      "cell_type": "code",
      "metadata": {
        "colab": {
          "base_uri": "https://localhost:8080/"
        },
        "id": "lNBJYbB9camx",
        "outputId": "1ddc6cd0-5e2d-4306-836a-c9a6692eb7a5"
      },
      "source": [
        "# Construct \"normal\" forms\r\n",
        "ANORM = A.T @ A\r\n",
        "#print(ANORM)\r\n",
        "BNORM = A.T @ y\r\n",
        "#print(BNORM)\r\n",
        "c = np.linalg.solve(ANORM,BNORM) # c is our solution\r\n",
        "\r\n",
        "print('ACTUAL:\\t',m,b)\r\n",
        "print('POLYFIT\\t',p)\r\n",
        "print('LIN ALG\\t',c.T)"
      ],
      "execution_count": 15,
      "outputs": [
        {
          "output_type": "stream",
          "text": [
            "[[285.  45.]\n",
            " [ 45.  10.]]\n",
            "[[-441.86925812]\n",
            " [ -60.65305716]]\n",
            "ACTUAL:\t -2 3\n",
            "POLYFIT\t [-2.04764244  3.14908524]\n",
            "LIN ALG\t [[-2.04764244  3.14908524]]\n"
          ],
          "name": "stdout"
        }
      ]
    }
  ]
}