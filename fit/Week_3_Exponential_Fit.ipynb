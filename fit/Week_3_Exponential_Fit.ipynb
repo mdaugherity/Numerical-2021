{
  "nbformat": 4,
  "nbformat_minor": 0,
  "metadata": {
    "colab": {
      "name": "Week 3 - Exponential Fit.ipynb",
      "provenance": [],
      "collapsed_sections": [],
      "authorship_tag": "ABX9TyMCOjZrcK6dXEBU/dnLOM6F",
      "include_colab_link": true
    },
    "kernelspec": {
      "name": "python3",
      "display_name": "Python 3"
    }
  },
  "cells": [
    {
      "cell_type": "markdown",
      "metadata": {
        "id": "view-in-github",
        "colab_type": "text"
      },
      "source": [
        "<a href=\"https://colab.research.google.com/github/mdaugherity/Numerical-2021/blob/main/Week_3_Exponential_Fit.ipynb\" target=\"_parent\"><img src=\"https://colab.research.google.com/assets/colab-badge.svg\" alt=\"Open In Colab\"/></a>"
      ]
    },
    {
      "cell_type": "code",
      "metadata": {
        "id": "zqqCXgauPrtS"
      },
      "source": [
        "import numpy as np\r\n",
        "import matplotlib.pyplot as plt"
      ],
      "execution_count": 1,
      "outputs": []
    },
    {
      "cell_type": "code",
      "metadata": {
        "id": "MtlgtUqtP0Ej"
      },
      "source": [
        "from numpy import *"
      ],
      "execution_count": 2,
      "outputs": []
    },
    {
      "cell_type": "code",
      "metadata": {
        "colab": {
          "base_uri": "https://localhost:8080/",
          "height": 320
        },
        "id": "HLbYUHeKQGgi",
        "outputId": "f99d9bcd-fe01-4b6d-95e4-81d62c436a0e"
      },
      "source": [
        "# DEFINE DATA PONTS\r\n",
        "xdata = np.linspace(0, 5, num=10)\r\n",
        "A=19\r\n",
        "k=-2\r\n",
        "ydata = A*np.exp(k*xdata)\r\n",
        "logydata = np.log(ydata)\r\n",
        "\r\n",
        "# FIT LOG(Y) TO A LINE\r\n",
        "p = np.polyfit(xdata, logydata, 1)\r\n",
        "print(p)\r\n",
        "k_fit = p[0]\r\n",
        "A_fit = np.exp( p[1])\r\n",
        "print('RIGHT ANSWERS:\\t',A,k)\r\n",
        "print('FIT RESULTS:\\t',A_fit,k_fit)\r\n",
        "\r\n",
        "# PLOT FIT \r\n",
        "xfit = np.linspace(0, 5, num=50)\r\n",
        "yfit = A_fit*np.exp(k_fit*xfit)\r\n",
        "\r\n",
        "plt.figure(figsize=(8,4))\r\n",
        "plt.subplot(1,2,1)\r\n",
        "plt.plot(xdata, ydata,'k*')\r\n",
        "plt.ylabel('y')\r\n",
        "plt.plot(xfit,yfit,'g-')\r\n",
        "\r\n",
        "plt.subplot(1,2,2)\r\n",
        "\r\n",
        "plt.plot(xdata, logydata,'k*')\r\n",
        "plt.ylabel('log(y)')\r\n",
        "plt.plot(xfit,np.log(yfit),'g-')\r\n",
        "plt.show()"
      ],
      "execution_count": 3,
      "outputs": [
        {
          "output_type": "stream",
          "text": [
            "[-2.          2.94443898]\n",
            "RIGHT ANSWERS:\t 19 -2\n",
            "FIT RESULTS:\t 18.999999999999936 -1.9999999999999984\n"
          ],
          "name": "stdout"
        },
        {
          "output_type": "display_data",
          "data": {
            "image/png": "[encoded data removed]",
            "text/plain": [
              "<Figure size 576x288 with 2 Axes>"
            ]
          },
          "metadata": {
            "tags": [],
            "needs_background": "light"
          }
        }
      ]
    }
  ]
}