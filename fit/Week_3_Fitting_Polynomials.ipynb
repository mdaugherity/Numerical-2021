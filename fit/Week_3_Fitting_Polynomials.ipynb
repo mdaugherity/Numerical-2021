{
  "nbformat": 4,
  "nbformat_minor": 0,
  "metadata": {
    "colab": {
      "name": "Week 3 - Fitting Polynomials.ipynb",
      "provenance": [],
      "collapsed_sections": [],
      "toc_visible": true,
      "authorship_tag": "ABX9TyNcltoREnka3tfItl77ssqk",
      "include_colab_link": true
    },
    "kernelspec": {
      "name": "python3",
      "display_name": "Python 3"
    }
  },
  "cells": [
    {
      "cell_type": "markdown",
      "metadata": {
        "id": "view-in-github",
        "colab_type": "text"
      },
      "source": [
        "<a href=\"https://colab.research.google.com/github/mdaugherity/Numerical-2021/blob/main/Week_3_Fitting_Polynomials.ipynb\" target=\"_parent\"><img src=\"https://colab.research.google.com/assets/colab-badge.svg\" alt=\"Open In Colab\"/></a>"
      ]
    },
    {
      "cell_type": "markdown",
      "metadata": {
        "id": "FZHJMpX3UMgi"
      },
      "source": [
        "# PHYS 451 - FITTING POLYNOMIALS (Week 3)\r\n",
        "Dr. Daugherity, Spring 2021"
      ]
    },
    {
      "cell_type": "code",
      "metadata": {
        "id": "fMLdPZPNUofq"
      },
      "source": [
        "import numpy as np\r\n",
        "import matplotlib.pyplot as plt"
      ],
      "execution_count": 6,
      "outputs": []
    },
    {
      "cell_type": "markdown",
      "metadata": {
        "id": "CsPyLd-ammpN"
      },
      "source": [
        "# polyfit and polyval"
      ]
    },
    {
      "cell_type": "code",
      "metadata": {
        "colab": {
          "base_uri": "https://localhost:8080/",
          "height": 301
        },
        "id": "B2maTy-Al_Oc",
        "outputId": "88b7d291-be11-4dd2-c838-adcde9bfd28b"
      },
      "source": [
        "xdata = np.arange(0,5)\r\n",
        "m = 2\r\n",
        "b = 5\r\n",
        "ydata = m*xdata + b \r\n",
        "p = np.polyfit(xdata,ydata,1)\r\n",
        "print('Actual:\\t',m,b)\r\n",
        "print('Fit:\\t',p)\r\n",
        "\r\n",
        "x = np.linspace(0,4)\r\n",
        "y = np.polyval(p, x)\r\n",
        "\r\n",
        "plt.plot(xdata,ydata,'bs')\r\n",
        "plt.plot(x,y,'g--')\r\n",
        "plt.show()"
      ],
      "execution_count": 10,
      "outputs": [
        {
          "output_type": "stream",
          "text": [
            "Actual:\t 2 5\n",
            "Fit:\t [2. 5.]\n"
          ],
          "name": "stdout"
        },
        {
          "output_type": "display_data",
          "data": {
            "image/png": "[encoded data removed]",
            "text/plain": [
              "<Figure size 432x288 with 1 Axes>"
            ]
          },
          "metadata": {
            "tags": [],
            "needs_background": "light"
          }
        }
      ]
    },
    {
      "cell_type": "code",
      "metadata": {
        "colab": {
          "base_uri": "https://localhost:8080/",
          "height": 284
        },
        "id": "5AbNBI8Jno1d",
        "outputId": "928a36c3-41b7-487a-f454-bdc6a0d390ed"
      },
      "source": [
        "xdata = np.arange(0,5)\r\n",
        "a = 5\r\n",
        "b = -6\r\n",
        "c = 2\r\n",
        "ydata = a*xdata**2 + b*xdata + c \r\n",
        "p = np.polyfit(xdata,ydata,2)\r\n",
        "print(p)\r\n",
        "\r\n",
        "x = np.linspace(0,4)\r\n",
        "y = np.polyval(p, x)\r\n",
        "\r\n",
        "plt.plot(xdata,ydata,'bs')\r\n",
        "plt.plot(x,y,'g--')\r\n",
        "plt.show()"
      ],
      "execution_count": 3,
      "outputs": [
        {
          "output_type": "stream",
          "text": [
            "[ 5. -6.  2.]\n"
          ],
          "name": "stdout"
        },
        {
          "output_type": "display_data",
          "data": {
            "image/png": "[encoded data removed]",
            "text/plain": [
              "<Figure size 432x288 with 1 Axes>"
            ]
          },
          "metadata": {
            "tags": [],
            "needs_background": "light"
          }
        }
      ]
    },
    {
      "cell_type": "markdown",
      "metadata": {
        "id": "xuebxATx7tgt"
      },
      "source": [
        "# FITTING WITH ERRORS\r\n",
        "\r\n",
        "Two common ways to generate random numbers using np.random module:\r\n",
        "\r\n",
        "* rand = random numbers from 0 to 1\r\n",
        "* randn = \"normal\" (i.e. Gaussian) random with mean=1 and stdev = 1\r\n"
      ]
    },
    {
      "cell_type": "code",
      "metadata": {
        "colab": {
          "base_uri": "https://localhost:8080/"
        },
        "id": "i6bZIi8O7_Mk",
        "outputId": "2e2bd2ac-3212-479d-d532-32f2a5d5524a"
      },
      "source": [
        "np.random.randn(10)"
      ],
      "execution_count": 5,
      "outputs": [
        {
          "output_type": "execute_result",
          "data": {
            "text/plain": [
              "array([-0.19998041,  0.21532997, -0.33193839, -0.44123692,  1.34779567,\n",
              "       -0.64604438,  0.21628474,  0.07157681, -0.04011589,  1.65997591])"
            ]
          },
          "metadata": {
            "tags": []
          },
          "execution_count": 5
        }
      ]
    },
    {
      "cell_type": "code",
      "metadata": {
        "colab": {
          "base_uri": "https://localhost:8080/",
          "height": 287
        },
        "id": "_KVV7lPl7rB9",
        "outputId": "a2664788-c026-460a-8660-49d65b3d4012"
      },
      "source": [
        "NUM = 10\r\n",
        "xdata = np.linspace(0, 10, num=NUM)\r\n",
        "error = np.random.randn(NUM)\r\n",
        "\r\n",
        "a = 4\r\n",
        "b = -7\r\n",
        "c = 3\r\n",
        "ydata = a*xdata**2 + b*xdata + c + error\r\n",
        "p = np.polyfit(xdata,ydata,2)\r\n",
        "print(p)\r\n",
        "\r\n",
        "x = np.linspace(0,10)\r\n",
        "y = np.polyval(p, x)\r\n",
        "\r\n",
        "plt.plot(xdata,ydata,'bs')\r\n",
        "plt.plot(x,y,'g--')\r\n",
        "plt.show()"
      ],
      "execution_count": 4,
      "outputs": [
        {
          "output_type": "stream",
          "text": [
            "[ 4.01175889 -7.10749112  3.3509651 ]\n"
          ],
          "name": "stdout"
        },
        {
          "output_type": "display_data",
          "data": {
            "image/png": "[encoded data removed]",
            "text/plain": [
              "<Figure size 432x288 with 1 Axes>"
            ]
          },
          "metadata": {
            "tags": [],
            "needs_background": "light"
          }
        }
      ]
    }
  ]
}