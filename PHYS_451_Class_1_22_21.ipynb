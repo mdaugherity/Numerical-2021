{
  "nbformat": 4,
  "nbformat_minor": 0,
  "metadata": {
    "colab": {
      "name": "PHYS 451 - Class 1-22-21.ipynb",
      "provenance": [],
      "collapsed_sections": [],
      "authorship_tag": "ABX9TyPU8q0Yqhy1Amy6nr1wJK/q",
      "include_colab_link": true
    },
    "kernelspec": {
      "name": "python3",
      "display_name": "Python 3"
    }
  },
  "cells": [
    {
      "cell_type": "markdown",
      "metadata": {
        "id": "view-in-github",
        "colab_type": "text"
      },
      "source": [
        "<a href=\"https://colab.research.google.com/github/mdaugherity/Numerical-2021/blob/main/PHYS_451_Class_1_22_21.ipynb\" target=\"_parent\"><img src=\"https://colab.research.google.com/assets/colab-badge.svg\" alt=\"Open In Colab\"/></a>"
      ]
    },
    {
      "cell_type": "markdown",
      "metadata": {
        "id": "ZeDCvkT_gywl"
      },
      "source": [
        "# PHYS 451 - Chapter 2\r\n",
        "# Class 1-22-21\r\n",
        "Example of solving system of linear equations\r\n"
      ]
    },
    {
      "cell_type": "code",
      "metadata": {
        "id": "cPwFmtqTgwkX"
      },
      "source": [
        "import numpy as np"
      ],
      "execution_count": 1,
      "outputs": []
    },
    {
      "cell_type": "code",
      "metadata": {
        "colab": {
          "base_uri": "https://localhost:8080/"
        },
        "id": "iK7dHuKYg_G-",
        "outputId": "d3667032-c6e8-4902-8be9-21816f53697c"
      },
      "source": [
        "A = np.array([[-0.5,1],[2,1]])\r\n",
        "print(A)\r\n",
        "\r\n",
        "b = np.array([1,6])\r\n",
        "print(b)\r\n",
        "\r\n",
        "np.linalg.solve(A,b)"
      ],
      "execution_count": 2,
      "outputs": [
        {
          "output_type": "stream",
          "text": [
            "[[-0.5  1. ]\n",
            " [ 2.   1. ]]\n",
            "[1 6]\n"
          ],
          "name": "stdout"
        },
        {
          "output_type": "execute_result",
          "data": {
            "text/plain": [
              "array([2., 2.])"
            ]
          },
          "metadata": {
            "tags": []
          },
          "execution_count": 2
        }
      ]
    },
    {
      "cell_type": "code",
      "metadata": {
        "colab": {
          "base_uri": "https://localhost:8080/"
        },
        "id": "-v9Ppm1vBdSB",
        "outputId": "9ddf1250-0155-46ae-9b51-76097546a1ca"
      },
      "source": [
        "Ainv = np.linalg.inv(A)\r\n",
        "print('The inverse of A:')\r\n",
        "print(Ainv,'\\n')\r\n",
        "\r\n",
        "print('Checking the inverse:')\r\n",
        "print(np.dot(Ainv,A))\r\n",
        "\r\n",
        "print('\\nSolution:',np.dot(Ainv,b))"
      ],
      "execution_count": 3,
      "outputs": [
        {
          "output_type": "stream",
          "text": [
            "The inverse of A:\n",
            "[[-0.4  0.4]\n",
            " [ 0.8  0.2]] \n",
            "\n",
            "Checking the inverse:\n",
            "[[1. 0.]\n",
            " [0. 1.]]\n",
            "\n",
            "Solution: [2. 2.]\n"
          ],
          "name": "stdout"
        }
      ]
    }
  ]
}